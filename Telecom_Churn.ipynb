{
 "cells": [
  {
   "cell_type": "markdown",
   "metadata": {},
   "source": [
    "# Business Requirement\n",
    "\n",
    "To identify possible CHURN-FLAG YES customers\n",
    "\n",
    "- State \n",
    "- Account Length  \n",
    "- Area Code  \n",
    "- Phone  \n",
    "\n",
    "- International Plan\n",
    "- VMail Plan  \n",
    "- VMail Message  \n",
    "\n",
    "- Day Mins  \n",
    "- Day Calls  \n",
    "- Day Charge \n",
    "\n",
    "- Eve Mins \n",
    "- Eve Calls  \n",
    "- Eve Charge \n",
    "\n",
    "- Night Mins \n",
    "- Night Calls\n",
    "- Night Charge \n",
    "\n",
    "- International Mins \n",
    "- International calls \n",
    "- International Charge \n",
    "\n",
    "- CustServ Calls  \n",
    "- Churn "
   ]
  },
  {
   "cell_type": "code",
   "execution_count": 1,
   "metadata": {},
   "outputs": [],
   "source": [
    "import pandas as pd\n",
    "import numpy as np\n",
    "import matplotlib.pyplot as plt\n",
    "import seaborn as sns"
   ]
  },
  {
   "cell_type": "code",
   "execution_count": 3,
   "metadata": {},
   "outputs": [],
   "source": [
    "data = pd.read_csv('telecom_churn_data.csv', header=None)"
   ]
  },
  {
   "cell_type": "code",
   "execution_count": 4,
   "metadata": {},
   "outputs": [
    {
     "data": {
      "text/html": [
       "<div>\n",
       "<style scoped>\n",
       "    .dataframe tbody tr th:only-of-type {\n",
       "        vertical-align: middle;\n",
       "    }\n",
       "\n",
       "    .dataframe tbody tr th {\n",
       "        vertical-align: top;\n",
       "    }\n",
       "\n",
       "    .dataframe thead th {\n",
       "        text-align: right;\n",
       "    }\n",
       "</style>\n",
       "<table border=\"1\" class=\"dataframe\">\n",
       "  <thead>\n",
       "    <tr style=\"text-align: right;\">\n",
       "      <th></th>\n",
       "      <th>0</th>\n",
       "      <th>1</th>\n",
       "      <th>2</th>\n",
       "      <th>3</th>\n",
       "      <th>4</th>\n",
       "      <th>5</th>\n",
       "      <th>6</th>\n",
       "      <th>7</th>\n",
       "      <th>8</th>\n",
       "      <th>9</th>\n",
       "      <th>...</th>\n",
       "      <th>11</th>\n",
       "      <th>12</th>\n",
       "      <th>13</th>\n",
       "      <th>14</th>\n",
       "      <th>15</th>\n",
       "      <th>16</th>\n",
       "      <th>17</th>\n",
       "      <th>18</th>\n",
       "      <th>19</th>\n",
       "      <th>20</th>\n",
       "    </tr>\n",
       "  </thead>\n",
       "  <tbody>\n",
       "    <tr>\n",
       "      <th>0</th>\n",
       "      <td>KS</td>\n",
       "      <td>128</td>\n",
       "      <td>415</td>\n",
       "      <td>382-4657</td>\n",
       "      <td>no</td>\n",
       "      <td>yes</td>\n",
       "      <td>25</td>\n",
       "      <td>265.1</td>\n",
       "      <td>110</td>\n",
       "      <td>45.07</td>\n",
       "      <td>...</td>\n",
       "      <td>99</td>\n",
       "      <td>16.78</td>\n",
       "      <td>244.7</td>\n",
       "      <td>91</td>\n",
       "      <td>11.01</td>\n",
       "      <td>10.0</td>\n",
       "      <td>3</td>\n",
       "      <td>2.70</td>\n",
       "      <td>1</td>\n",
       "      <td>False.</td>\n",
       "    </tr>\n",
       "    <tr>\n",
       "      <th>1</th>\n",
       "      <td>OH</td>\n",
       "      <td>107</td>\n",
       "      <td>415</td>\n",
       "      <td>371-7191</td>\n",
       "      <td>no</td>\n",
       "      <td>yes</td>\n",
       "      <td>26</td>\n",
       "      <td>161.6</td>\n",
       "      <td>123</td>\n",
       "      <td>27.47</td>\n",
       "      <td>...</td>\n",
       "      <td>103</td>\n",
       "      <td>16.62</td>\n",
       "      <td>254.4</td>\n",
       "      <td>103</td>\n",
       "      <td>11.45</td>\n",
       "      <td>13.7</td>\n",
       "      <td>3</td>\n",
       "      <td>3.70</td>\n",
       "      <td>1</td>\n",
       "      <td>False.</td>\n",
       "    </tr>\n",
       "    <tr>\n",
       "      <th>2</th>\n",
       "      <td>NJ</td>\n",
       "      <td>137</td>\n",
       "      <td>415</td>\n",
       "      <td>358-1921</td>\n",
       "      <td>no</td>\n",
       "      <td>no</td>\n",
       "      <td>0</td>\n",
       "      <td>243.4</td>\n",
       "      <td>114</td>\n",
       "      <td>41.38</td>\n",
       "      <td>...</td>\n",
       "      <td>110</td>\n",
       "      <td>10.30</td>\n",
       "      <td>162.6</td>\n",
       "      <td>104</td>\n",
       "      <td>7.32</td>\n",
       "      <td>12.2</td>\n",
       "      <td>5</td>\n",
       "      <td>3.29</td>\n",
       "      <td>0</td>\n",
       "      <td>False.</td>\n",
       "    </tr>\n",
       "    <tr>\n",
       "      <th>3</th>\n",
       "      <td>OH</td>\n",
       "      <td>84</td>\n",
       "      <td>408</td>\n",
       "      <td>375-9999</td>\n",
       "      <td>yes</td>\n",
       "      <td>no</td>\n",
       "      <td>0</td>\n",
       "      <td>299.4</td>\n",
       "      <td>71</td>\n",
       "      <td>50.90</td>\n",
       "      <td>...</td>\n",
       "      <td>88</td>\n",
       "      <td>5.26</td>\n",
       "      <td>196.9</td>\n",
       "      <td>89</td>\n",
       "      <td>8.86</td>\n",
       "      <td>6.6</td>\n",
       "      <td>7</td>\n",
       "      <td>1.78</td>\n",
       "      <td>2</td>\n",
       "      <td>False.</td>\n",
       "    </tr>\n",
       "    <tr>\n",
       "      <th>4</th>\n",
       "      <td>OK</td>\n",
       "      <td>75</td>\n",
       "      <td>415</td>\n",
       "      <td>330-6626</td>\n",
       "      <td>yes</td>\n",
       "      <td>no</td>\n",
       "      <td>0</td>\n",
       "      <td>166.7</td>\n",
       "      <td>113</td>\n",
       "      <td>28.34</td>\n",
       "      <td>...</td>\n",
       "      <td>122</td>\n",
       "      <td>12.61</td>\n",
       "      <td>186.9</td>\n",
       "      <td>121</td>\n",
       "      <td>8.41</td>\n",
       "      <td>10.1</td>\n",
       "      <td>3</td>\n",
       "      <td>2.73</td>\n",
       "      <td>3</td>\n",
       "      <td>False.</td>\n",
       "    </tr>\n",
       "  </tbody>\n",
       "</table>\n",
       "<p>5 rows × 21 columns</p>\n",
       "</div>"
      ],
      "text/plain": [
       "   0    1    2          3     4     5   6      7    8      9   ...   11  \\\n",
       "0  KS  128  415   382-4657    no   yes  25  265.1  110  45.07  ...   99   \n",
       "1  OH  107  415   371-7191    no   yes  26  161.6  123  27.47  ...  103   \n",
       "2  NJ  137  415   358-1921    no    no   0  243.4  114  41.38  ...  110   \n",
       "3  OH   84  408   375-9999   yes    no   0  299.4   71  50.90  ...   88   \n",
       "4  OK   75  415   330-6626   yes    no   0  166.7  113  28.34  ...  122   \n",
       "\n",
       "      12     13   14     15    16  17    18  19       20  \n",
       "0  16.78  244.7   91  11.01  10.0   3  2.70   1   False.  \n",
       "1  16.62  254.4  103  11.45  13.7   3  3.70   1   False.  \n",
       "2  10.30  162.6  104   7.32  12.2   5  3.29   0   False.  \n",
       "3   5.26  196.9   89   8.86   6.6   7  1.78   2   False.  \n",
       "4  12.61  186.9  121   8.41  10.1   3  2.73   3   False.  \n",
       "\n",
       "[5 rows x 21 columns]"
      ]
     },
     "execution_count": 4,
     "metadata": {},
     "output_type": "execute_result"
    }
   ],
   "source": [
    "data.head()"
   ]
  },
  {
   "cell_type": "code",
   "execution_count": 5,
   "metadata": {},
   "outputs": [
    {
     "name": "stdout",
     "output_type": "stream",
     "text": [
      "<class 'pandas.core.frame.DataFrame'>\n",
      "RangeIndex: 4617 entries, 0 to 4616\n",
      "Data columns (total 21 columns):\n",
      "0     4617 non-null object\n",
      "1     4617 non-null int64\n",
      "2     4617 non-null int64\n",
      "3     4617 non-null object\n",
      "4     4617 non-null object\n",
      "5     4617 non-null object\n",
      "6     4617 non-null int64\n",
      "7     4617 non-null float64\n",
      "8     4617 non-null int64\n",
      "9     4617 non-null float64\n",
      "10    4617 non-null float64\n",
      "11    4617 non-null int64\n",
      "12    4617 non-null float64\n",
      "13    4617 non-null float64\n",
      "14    4617 non-null int64\n",
      "15    4617 non-null float64\n",
      "16    4617 non-null float64\n",
      "17    4617 non-null int64\n",
      "18    4617 non-null float64\n",
      "19    4617 non-null int64\n",
      "20    4617 non-null object\n",
      "dtypes: float64(8), int64(8), object(5)\n",
      "memory usage: 757.6+ KB\n"
     ]
    }
   ],
   "source": [
    "data.info()"
   ]
  },
  {
   "cell_type": "code",
   "execution_count": 6,
   "metadata": {},
   "outputs": [],
   "source": [
    "## no null values"
   ]
  },
  {
   "cell_type": "markdown",
   "metadata": {},
   "source": [
    "# EDA"
   ]
  },
  {
   "cell_type": "markdown",
   "metadata": {},
   "source": [
    "## Data Cleaning\n",
    "\n",
    "- No null values\n",
    "- Updaate the column names"
   ]
  },
  {
   "cell_type": "markdown",
   "metadata": {},
   "source": [
    "#### Updating the column names"
   ]
  },
  {
   "cell_type": "code",
   "execution_count": 7,
   "metadata": {},
   "outputs": [],
   "source": [
    "data.columns = ['State', 'Account Length', 'Area Code', 'Phone', \n",
    "                'International Plan', 'VMail Plan', 'VMail Message', 'Day Mins',\n",
    "                'Day Calls', 'Day Charge', 'Eve Mins', 'Eve Calls',\n",
    "                'Eve Charge', 'Night Mins', 'Night Calls', 'Night Charge',\n",
    "                'International Mins', 'International calls', 'International Charge', 'CustServ Calls', 'Churn'] "
   ]
  },
  {
   "cell_type": "code",
   "execution_count": 9,
   "metadata": {},
   "outputs": [
    {
     "data": {
      "text/html": [
       "<div>\n",
       "<style scoped>\n",
       "    .dataframe tbody tr th:only-of-type {\n",
       "        vertical-align: middle;\n",
       "    }\n",
       "\n",
       "    .dataframe tbody tr th {\n",
       "        vertical-align: top;\n",
       "    }\n",
       "\n",
       "    .dataframe thead th {\n",
       "        text-align: right;\n",
       "    }\n",
       "</style>\n",
       "<table border=\"1\" class=\"dataframe\">\n",
       "  <thead>\n",
       "    <tr style=\"text-align: right;\">\n",
       "      <th></th>\n",
       "      <th>State</th>\n",
       "      <th>Account Length</th>\n",
       "      <th>Area Code</th>\n",
       "      <th>Phone</th>\n",
       "      <th>International Plan</th>\n",
       "      <th>VMail Plan</th>\n",
       "      <th>VMail Message</th>\n",
       "      <th>Day Mins</th>\n",
       "      <th>Day Calls</th>\n",
       "      <th>Day Charge</th>\n",
       "      <th>...</th>\n",
       "      <th>Eve Calls</th>\n",
       "      <th>Eve Charge</th>\n",
       "      <th>Night Mins</th>\n",
       "      <th>Night Calls</th>\n",
       "      <th>Night Charge</th>\n",
       "      <th>International Mins</th>\n",
       "      <th>International calls</th>\n",
       "      <th>International Charge</th>\n",
       "      <th>CustServ Calls</th>\n",
       "      <th>Churn</th>\n",
       "    </tr>\n",
       "  </thead>\n",
       "  <tbody>\n",
       "    <tr>\n",
       "      <th>0</th>\n",
       "      <td>KS</td>\n",
       "      <td>128</td>\n",
       "      <td>415</td>\n",
       "      <td>382-4657</td>\n",
       "      <td>no</td>\n",
       "      <td>yes</td>\n",
       "      <td>25</td>\n",
       "      <td>265.1</td>\n",
       "      <td>110</td>\n",
       "      <td>45.07</td>\n",
       "      <td>...</td>\n",
       "      <td>99</td>\n",
       "      <td>16.78</td>\n",
       "      <td>244.7</td>\n",
       "      <td>91</td>\n",
       "      <td>11.01</td>\n",
       "      <td>10.0</td>\n",
       "      <td>3</td>\n",
       "      <td>2.70</td>\n",
       "      <td>1</td>\n",
       "      <td>False.</td>\n",
       "    </tr>\n",
       "    <tr>\n",
       "      <th>1</th>\n",
       "      <td>OH</td>\n",
       "      <td>107</td>\n",
       "      <td>415</td>\n",
       "      <td>371-7191</td>\n",
       "      <td>no</td>\n",
       "      <td>yes</td>\n",
       "      <td>26</td>\n",
       "      <td>161.6</td>\n",
       "      <td>123</td>\n",
       "      <td>27.47</td>\n",
       "      <td>...</td>\n",
       "      <td>103</td>\n",
       "      <td>16.62</td>\n",
       "      <td>254.4</td>\n",
       "      <td>103</td>\n",
       "      <td>11.45</td>\n",
       "      <td>13.7</td>\n",
       "      <td>3</td>\n",
       "      <td>3.70</td>\n",
       "      <td>1</td>\n",
       "      <td>False.</td>\n",
       "    </tr>\n",
       "    <tr>\n",
       "      <th>2</th>\n",
       "      <td>NJ</td>\n",
       "      <td>137</td>\n",
       "      <td>415</td>\n",
       "      <td>358-1921</td>\n",
       "      <td>no</td>\n",
       "      <td>no</td>\n",
       "      <td>0</td>\n",
       "      <td>243.4</td>\n",
       "      <td>114</td>\n",
       "      <td>41.38</td>\n",
       "      <td>...</td>\n",
       "      <td>110</td>\n",
       "      <td>10.30</td>\n",
       "      <td>162.6</td>\n",
       "      <td>104</td>\n",
       "      <td>7.32</td>\n",
       "      <td>12.2</td>\n",
       "      <td>5</td>\n",
       "      <td>3.29</td>\n",
       "      <td>0</td>\n",
       "      <td>False.</td>\n",
       "    </tr>\n",
       "    <tr>\n",
       "      <th>3</th>\n",
       "      <td>OH</td>\n",
       "      <td>84</td>\n",
       "      <td>408</td>\n",
       "      <td>375-9999</td>\n",
       "      <td>yes</td>\n",
       "      <td>no</td>\n",
       "      <td>0</td>\n",
       "      <td>299.4</td>\n",
       "      <td>71</td>\n",
       "      <td>50.90</td>\n",
       "      <td>...</td>\n",
       "      <td>88</td>\n",
       "      <td>5.26</td>\n",
       "      <td>196.9</td>\n",
       "      <td>89</td>\n",
       "      <td>8.86</td>\n",
       "      <td>6.6</td>\n",
       "      <td>7</td>\n",
       "      <td>1.78</td>\n",
       "      <td>2</td>\n",
       "      <td>False.</td>\n",
       "    </tr>\n",
       "    <tr>\n",
       "      <th>4</th>\n",
       "      <td>OK</td>\n",
       "      <td>75</td>\n",
       "      <td>415</td>\n",
       "      <td>330-6626</td>\n",
       "      <td>yes</td>\n",
       "      <td>no</td>\n",
       "      <td>0</td>\n",
       "      <td>166.7</td>\n",
       "      <td>113</td>\n",
       "      <td>28.34</td>\n",
       "      <td>...</td>\n",
       "      <td>122</td>\n",
       "      <td>12.61</td>\n",
       "      <td>186.9</td>\n",
       "      <td>121</td>\n",
       "      <td>8.41</td>\n",
       "      <td>10.1</td>\n",
       "      <td>3</td>\n",
       "      <td>2.73</td>\n",
       "      <td>3</td>\n",
       "      <td>False.</td>\n",
       "    </tr>\n",
       "  </tbody>\n",
       "</table>\n",
       "<p>5 rows × 21 columns</p>\n",
       "</div>"
      ],
      "text/plain": [
       "  State  Account Length  Area Code      Phone International Plan VMail Plan  \\\n",
       "0    KS             128        415   382-4657                 no        yes   \n",
       "1    OH             107        415   371-7191                 no        yes   \n",
       "2    NJ             137        415   358-1921                 no         no   \n",
       "3    OH              84        408   375-9999                yes         no   \n",
       "4    OK              75        415   330-6626                yes         no   \n",
       "\n",
       "   VMail Message  Day Mins  Day Calls  Day Charge  ...  Eve Calls  Eve Charge  \\\n",
       "0             25     265.1        110       45.07  ...         99       16.78   \n",
       "1             26     161.6        123       27.47  ...        103       16.62   \n",
       "2              0     243.4        114       41.38  ...        110       10.30   \n",
       "3              0     299.4         71       50.90  ...         88        5.26   \n",
       "4              0     166.7        113       28.34  ...        122       12.61   \n",
       "\n",
       "   Night Mins  Night Calls  Night Charge  International Mins  \\\n",
       "0       244.7           91         11.01                10.0   \n",
       "1       254.4          103         11.45                13.7   \n",
       "2       162.6          104          7.32                12.2   \n",
       "3       196.9           89          8.86                 6.6   \n",
       "4       186.9          121          8.41                10.1   \n",
       "\n",
       "   International calls  International Charge  CustServ Calls    Churn  \n",
       "0                    3                  2.70               1   False.  \n",
       "1                    3                  3.70               1   False.  \n",
       "2                    5                  3.29               0   False.  \n",
       "3                    7                  1.78               2   False.  \n",
       "4                    3                  2.73               3   False.  \n",
       "\n",
       "[5 rows x 21 columns]"
      ]
     },
     "execution_count": 9,
     "metadata": {},
     "output_type": "execute_result"
    }
   ],
   "source": [
    "data.head()"
   ]
  },
  {
   "cell_type": "code",
   "execution_count": null,
   "metadata": {},
   "outputs": [],
   "source": []
  },
  {
   "cell_type": "code",
   "execution_count": 8,
   "metadata": {},
   "outputs": [
    {
     "name": "stdout",
     "output_type": "stream",
     "text": [
      "<class 'pandas.core.frame.DataFrame'>\n",
      "RangeIndex: 4617 entries, 0 to 4616\n",
      "Data columns (total 21 columns):\n",
      "State                   4617 non-null object\n",
      "Account Length          4617 non-null int64\n",
      "Area Code               4617 non-null int64\n",
      "Phone                   4617 non-null object\n",
      "International Plan      4617 non-null object\n",
      "VMail Plan              4617 non-null object\n",
      "VMail Message           4617 non-null int64\n",
      "Day Mins                4617 non-null float64\n",
      "Day Calls               4617 non-null int64\n",
      "Day Charge              4617 non-null float64\n",
      "Eve Mins                4617 non-null float64\n",
      "Eve Calls               4617 non-null int64\n",
      "Eve Charge              4617 non-null float64\n",
      "Night Mins              4617 non-null float64\n",
      "Night Calls             4617 non-null int64\n",
      "Night Charge            4617 non-null float64\n",
      "International Mins      4617 non-null float64\n",
      "International calls     4617 non-null int64\n",
      "International Charge    4617 non-null float64\n",
      "CustServ Calls          4617 non-null int64\n",
      "Churn                   4617 non-null object\n",
      "dtypes: float64(8), int64(8), object(5)\n",
      "memory usage: 757.6+ KB\n"
     ]
    }
   ],
   "source": [
    "data.info()"
   ]
  },
  {
   "cell_type": "markdown",
   "metadata": {},
   "source": [
    "## Data Manipulation\n",
    "\n",
    "- No data manipulation required"
   ]
  },
  {
   "cell_type": "markdown",
   "metadata": {},
   "source": [
    "## Data Preprocessing\n",
    "\n",
    "- Update the output variable to 0's and 1's\n",
    "- Label Encode (International Plan, VMail Plan)"
   ]
  },
  {
   "cell_type": "markdown",
   "metadata": {},
   "source": [
    "### Update the output variable to 0's and 1's"
   ]
  },
  {
   "cell_type": "code",
   "execution_count": 9,
   "metadata": {},
   "outputs": [],
   "source": [
    "data['Churn'] = data['Churn'].apply(lambda x: 1 if x != ' False.' else 0)"
   ]
  },
  {
   "cell_type": "code",
   "execution_count": 10,
   "metadata": {},
   "outputs": [
    {
     "data": {
      "text/plain": [
       "0    3960\n",
       "1     656\n",
       "Name: Churn, dtype: int64"
      ]
     },
     "execution_count": 10,
     "metadata": {},
     "output_type": "execute_result"
    }
   ],
   "source": [
    "data['Churn'].value_counts()"
   ]
  },
  {
   "cell_type": "code",
   "execution_count": 11,
   "metadata": {},
   "outputs": [
    {
     "data": {
      "text/html": [
       "<div>\n",
       "<style scoped>\n",
       "    .dataframe tbody tr th:only-of-type {\n",
       "        vertical-align: middle;\n",
       "    }\n",
       "\n",
       "    .dataframe tbody tr th {\n",
       "        vertical-align: top;\n",
       "    }\n",
       "\n",
       "    .dataframe thead th {\n",
       "        text-align: right;\n",
       "    }\n",
       "</style>\n",
       "<table border=\"1\" class=\"dataframe\">\n",
       "  <thead>\n",
       "    <tr style=\"text-align: right;\">\n",
       "      <th></th>\n",
       "      <th>State</th>\n",
       "      <th>Account Length</th>\n",
       "      <th>Area Code</th>\n",
       "      <th>Phone</th>\n",
       "      <th>International Plan</th>\n",
       "      <th>VMail Plan</th>\n",
       "      <th>VMail Message</th>\n",
       "      <th>Day Mins</th>\n",
       "      <th>Day Calls</th>\n",
       "      <th>Day Charge</th>\n",
       "      <th>...</th>\n",
       "      <th>Eve Calls</th>\n",
       "      <th>Eve Charge</th>\n",
       "      <th>Night Mins</th>\n",
       "      <th>Night Calls</th>\n",
       "      <th>Night Charge</th>\n",
       "      <th>International Mins</th>\n",
       "      <th>International calls</th>\n",
       "      <th>International Charge</th>\n",
       "      <th>CustServ Calls</th>\n",
       "      <th>Churn</th>\n",
       "    </tr>\n",
       "  </thead>\n",
       "  <tbody>\n",
       "    <tr>\n",
       "      <th>0</th>\n",
       "      <td>OH</td>\n",
       "      <td>107</td>\n",
       "      <td>415</td>\n",
       "      <td>371-7191</td>\n",
       "      <td>no</td>\n",
       "      <td>yes</td>\n",
       "      <td>26</td>\n",
       "      <td>161.6</td>\n",
       "      <td>123</td>\n",
       "      <td>27.47</td>\n",
       "      <td>...</td>\n",
       "      <td>103</td>\n",
       "      <td>16.62</td>\n",
       "      <td>254.4</td>\n",
       "      <td>103</td>\n",
       "      <td>11.45</td>\n",
       "      <td>13.7</td>\n",
       "      <td>3</td>\n",
       "      <td>3.70</td>\n",
       "      <td>1</td>\n",
       "      <td>0</td>\n",
       "    </tr>\n",
       "    <tr>\n",
       "      <th>1</th>\n",
       "      <td>NJ</td>\n",
       "      <td>137</td>\n",
       "      <td>415</td>\n",
       "      <td>358-1921</td>\n",
       "      <td>no</td>\n",
       "      <td>no</td>\n",
       "      <td>0</td>\n",
       "      <td>243.4</td>\n",
       "      <td>114</td>\n",
       "      <td>41.38</td>\n",
       "      <td>...</td>\n",
       "      <td>110</td>\n",
       "      <td>10.30</td>\n",
       "      <td>162.6</td>\n",
       "      <td>104</td>\n",
       "      <td>7.32</td>\n",
       "      <td>12.2</td>\n",
       "      <td>5</td>\n",
       "      <td>3.29</td>\n",
       "      <td>0</td>\n",
       "      <td>0</td>\n",
       "    </tr>\n",
       "    <tr>\n",
       "      <th>2</th>\n",
       "      <td>OH</td>\n",
       "      <td>84</td>\n",
       "      <td>408</td>\n",
       "      <td>375-9999</td>\n",
       "      <td>yes</td>\n",
       "      <td>no</td>\n",
       "      <td>0</td>\n",
       "      <td>299.4</td>\n",
       "      <td>71</td>\n",
       "      <td>50.90</td>\n",
       "      <td>...</td>\n",
       "      <td>88</td>\n",
       "      <td>5.26</td>\n",
       "      <td>196.9</td>\n",
       "      <td>89</td>\n",
       "      <td>8.86</td>\n",
       "      <td>6.6</td>\n",
       "      <td>7</td>\n",
       "      <td>1.78</td>\n",
       "      <td>2</td>\n",
       "      <td>0</td>\n",
       "    </tr>\n",
       "    <tr>\n",
       "      <th>3</th>\n",
       "      <td>OK</td>\n",
       "      <td>75</td>\n",
       "      <td>415</td>\n",
       "      <td>330-6626</td>\n",
       "      <td>yes</td>\n",
       "      <td>no</td>\n",
       "      <td>0</td>\n",
       "      <td>166.7</td>\n",
       "      <td>113</td>\n",
       "      <td>28.34</td>\n",
       "      <td>...</td>\n",
       "      <td>122</td>\n",
       "      <td>12.61</td>\n",
       "      <td>186.9</td>\n",
       "      <td>121</td>\n",
       "      <td>8.41</td>\n",
       "      <td>10.1</td>\n",
       "      <td>3</td>\n",
       "      <td>2.73</td>\n",
       "      <td>3</td>\n",
       "      <td>0</td>\n",
       "    </tr>\n",
       "    <tr>\n",
       "      <th>4</th>\n",
       "      <td>AL</td>\n",
       "      <td>118</td>\n",
       "      <td>510</td>\n",
       "      <td>391-8027</td>\n",
       "      <td>yes</td>\n",
       "      <td>no</td>\n",
       "      <td>0</td>\n",
       "      <td>223.4</td>\n",
       "      <td>98</td>\n",
       "      <td>37.98</td>\n",
       "      <td>...</td>\n",
       "      <td>101</td>\n",
       "      <td>18.75</td>\n",
       "      <td>203.9</td>\n",
       "      <td>118</td>\n",
       "      <td>9.18</td>\n",
       "      <td>6.3</td>\n",
       "      <td>6</td>\n",
       "      <td>1.70</td>\n",
       "      <td>0</td>\n",
       "      <td>0</td>\n",
       "    </tr>\n",
       "  </tbody>\n",
       "</table>\n",
       "<p>5 rows × 21 columns</p>\n",
       "</div>"
      ],
      "text/plain": [
       "  State  Account Length  Area Code      Phone International Plan VMail Plan  \\\n",
       "0    OH             107        415   371-7191                 no        yes   \n",
       "1    NJ             137        415   358-1921                 no         no   \n",
       "2    OH              84        408   375-9999                yes         no   \n",
       "3    OK              75        415   330-6626                yes         no   \n",
       "4    AL             118        510   391-8027                yes         no   \n",
       "\n",
       "   VMail Message  Day Mins  Day Calls  Day Charge  ...  Eve Calls  Eve Charge  \\\n",
       "0             26     161.6        123       27.47  ...        103       16.62   \n",
       "1              0     243.4        114       41.38  ...        110       10.30   \n",
       "2              0     299.4         71       50.90  ...         88        5.26   \n",
       "3              0     166.7        113       28.34  ...        122       12.61   \n",
       "4              0     223.4         98       37.98  ...        101       18.75   \n",
       "\n",
       "   Night Mins  Night Calls  Night Charge  International Mins  \\\n",
       "0       254.4          103         11.45                13.7   \n",
       "1       162.6          104          7.32                12.2   \n",
       "2       196.9           89          8.86                 6.6   \n",
       "3       186.9          121          8.41                10.1   \n",
       "4       203.9          118          9.18                 6.3   \n",
       "\n",
       "   International calls  International Charge  CustServ Calls  Churn  \n",
       "0                    3                  3.70               1      0  \n",
       "1                    5                  3.29               0      0  \n",
       "2                    7                  1.78               2      0  \n",
       "3                    3                  2.73               3      0  \n",
       "4                    6                  1.70               0      0  \n",
       "\n",
       "[5 rows x 21 columns]"
      ]
     },
     "execution_count": 11,
     "metadata": {},
     "output_type": "execute_result"
    }
   ],
   "source": [
    "data.head()"
   ]
  },
  {
   "cell_type": "code",
   "execution_count": 12,
   "metadata": {},
   "outputs": [
    {
     "data": {
      "text/html": [
       "<div>\n",
       "<style scoped>\n",
       "    .dataframe tbody tr th:only-of-type {\n",
       "        vertical-align: middle;\n",
       "    }\n",
       "\n",
       "    .dataframe tbody tr th {\n",
       "        vertical-align: top;\n",
       "    }\n",
       "\n",
       "    .dataframe thead th {\n",
       "        text-align: right;\n",
       "    }\n",
       "</style>\n",
       "<table border=\"1\" class=\"dataframe\">\n",
       "  <thead>\n",
       "    <tr style=\"text-align: right;\">\n",
       "      <th></th>\n",
       "      <th>Account Length</th>\n",
       "      <th>Area Code</th>\n",
       "      <th>VMail Message</th>\n",
       "      <th>Day Mins</th>\n",
       "      <th>Day Calls</th>\n",
       "      <th>Day Charge</th>\n",
       "      <th>Eve Mins</th>\n",
       "      <th>Eve Calls</th>\n",
       "      <th>Eve Charge</th>\n",
       "      <th>Night Mins</th>\n",
       "      <th>Night Calls</th>\n",
       "      <th>Night Charge</th>\n",
       "      <th>International Mins</th>\n",
       "      <th>International calls</th>\n",
       "      <th>International Charge</th>\n",
       "      <th>CustServ Calls</th>\n",
       "      <th>Churn</th>\n",
       "    </tr>\n",
       "  </thead>\n",
       "  <tbody>\n",
       "    <tr>\n",
       "      <th>count</th>\n",
       "      <td>4616.000000</td>\n",
       "      <td>4616.000000</td>\n",
       "      <td>4616.000000</td>\n",
       "      <td>4616.000000</td>\n",
       "      <td>4616.000000</td>\n",
       "      <td>4616.000000</td>\n",
       "      <td>4616.000000</td>\n",
       "      <td>4616.000000</td>\n",
       "      <td>4616.000000</td>\n",
       "      <td>4616.000000</td>\n",
       "      <td>4616.000000</td>\n",
       "      <td>4616.000000</td>\n",
       "      <td>4616.000000</td>\n",
       "      <td>4616.000000</td>\n",
       "      <td>4616.000000</td>\n",
       "      <td>4616.000000</td>\n",
       "      <td>4616.000000</td>\n",
       "    </tr>\n",
       "    <tr>\n",
       "      <th>mean</th>\n",
       "      <td>100.639298</td>\n",
       "      <td>437.051127</td>\n",
       "      <td>7.846187</td>\n",
       "      <td>180.428813</td>\n",
       "      <td>100.052210</td>\n",
       "      <td>30.673458</td>\n",
       "      <td>200.429744</td>\n",
       "      <td>100.180026</td>\n",
       "      <td>17.036759</td>\n",
       "      <td>200.614385</td>\n",
       "      <td>99.946057</td>\n",
       "      <td>9.027756</td>\n",
       "      <td>10.279354</td>\n",
       "      <td>4.434142</td>\n",
       "      <td>2.775942</td>\n",
       "      <td>1.567158</td>\n",
       "      <td>0.142114</td>\n",
       "    </tr>\n",
       "    <tr>\n",
       "      <th>std</th>\n",
       "      <td>39.599436</td>\n",
       "      <td>42.291548</td>\n",
       "      <td>13.591461</td>\n",
       "      <td>53.975003</td>\n",
       "      <td>19.884642</td>\n",
       "      <td>9.175693</td>\n",
       "      <td>50.562458</td>\n",
       "      <td>19.823454</td>\n",
       "      <td>4.297796</td>\n",
       "      <td>50.544926</td>\n",
       "      <td>19.936777</td>\n",
       "      <td>2.274547</td>\n",
       "      <td>2.757657</td>\n",
       "      <td>2.457790</td>\n",
       "      <td>0.744493</td>\n",
       "      <td>1.307134</td>\n",
       "      <td>0.349205</td>\n",
       "    </tr>\n",
       "    <tr>\n",
       "      <th>min</th>\n",
       "      <td>1.000000</td>\n",
       "      <td>408.000000</td>\n",
       "      <td>0.000000</td>\n",
       "      <td>0.000000</td>\n",
       "      <td>0.000000</td>\n",
       "      <td>0.000000</td>\n",
       "      <td>0.000000</td>\n",
       "      <td>0.000000</td>\n",
       "      <td>0.000000</td>\n",
       "      <td>23.200000</td>\n",
       "      <td>12.000000</td>\n",
       "      <td>1.040000</td>\n",
       "      <td>0.000000</td>\n",
       "      <td>0.000000</td>\n",
       "      <td>0.000000</td>\n",
       "      <td>0.000000</td>\n",
       "      <td>0.000000</td>\n",
       "    </tr>\n",
       "    <tr>\n",
       "      <th>25%</th>\n",
       "      <td>73.750000</td>\n",
       "      <td>408.000000</td>\n",
       "      <td>0.000000</td>\n",
       "      <td>143.700000</td>\n",
       "      <td>87.000000</td>\n",
       "      <td>24.430000</td>\n",
       "      <td>165.875000</td>\n",
       "      <td>87.000000</td>\n",
       "      <td>14.097500</td>\n",
       "      <td>167.100000</td>\n",
       "      <td>86.750000</td>\n",
       "      <td>7.520000</td>\n",
       "      <td>8.600000</td>\n",
       "      <td>3.000000</td>\n",
       "      <td>2.320000</td>\n",
       "      <td>1.000000</td>\n",
       "      <td>0.000000</td>\n",
       "    </tr>\n",
       "    <tr>\n",
       "      <th>50%</th>\n",
       "      <td>100.000000</td>\n",
       "      <td>415.000000</td>\n",
       "      <td>0.000000</td>\n",
       "      <td>180.000000</td>\n",
       "      <td>100.000000</td>\n",
       "      <td>30.600000</td>\n",
       "      <td>200.800000</td>\n",
       "      <td>101.000000</td>\n",
       "      <td>17.070000</td>\n",
       "      <td>200.800000</td>\n",
       "      <td>100.000000</td>\n",
       "      <td>9.040000</td>\n",
       "      <td>10.350000</td>\n",
       "      <td>4.000000</td>\n",
       "      <td>2.795000</td>\n",
       "      <td>1.000000</td>\n",
       "      <td>0.000000</td>\n",
       "    </tr>\n",
       "    <tr>\n",
       "      <th>75%</th>\n",
       "      <td>127.000000</td>\n",
       "      <td>510.000000</td>\n",
       "      <td>17.000000</td>\n",
       "      <td>216.800000</td>\n",
       "      <td>113.000000</td>\n",
       "      <td>36.860000</td>\n",
       "      <td>234.025000</td>\n",
       "      <td>114.000000</td>\n",
       "      <td>19.892500</td>\n",
       "      <td>234.900000</td>\n",
       "      <td>113.000000</td>\n",
       "      <td>10.570000</td>\n",
       "      <td>12.100000</td>\n",
       "      <td>6.000000</td>\n",
       "      <td>3.270000</td>\n",
       "      <td>2.000000</td>\n",
       "      <td>0.000000</td>\n",
       "    </tr>\n",
       "    <tr>\n",
       "      <th>max</th>\n",
       "      <td>243.000000</td>\n",
       "      <td>510.000000</td>\n",
       "      <td>51.000000</td>\n",
       "      <td>351.500000</td>\n",
       "      <td>165.000000</td>\n",
       "      <td>59.760000</td>\n",
       "      <td>363.700000</td>\n",
       "      <td>170.000000</td>\n",
       "      <td>30.910000</td>\n",
       "      <td>395.000000</td>\n",
       "      <td>175.000000</td>\n",
       "      <td>17.770000</td>\n",
       "      <td>20.000000</td>\n",
       "      <td>20.000000</td>\n",
       "      <td>5.400000</td>\n",
       "      <td>9.000000</td>\n",
       "      <td>1.000000</td>\n",
       "    </tr>\n",
       "  </tbody>\n",
       "</table>\n",
       "</div>"
      ],
      "text/plain": [
       "       Account Length    Area Code  VMail Message     Day Mins    Day Calls  \\\n",
       "count     4616.000000  4616.000000    4616.000000  4616.000000  4616.000000   \n",
       "mean       100.639298   437.051127       7.846187   180.428813   100.052210   \n",
       "std         39.599436    42.291548      13.591461    53.975003    19.884642   \n",
       "min          1.000000   408.000000       0.000000     0.000000     0.000000   \n",
       "25%         73.750000   408.000000       0.000000   143.700000    87.000000   \n",
       "50%        100.000000   415.000000       0.000000   180.000000   100.000000   \n",
       "75%        127.000000   510.000000      17.000000   216.800000   113.000000   \n",
       "max        243.000000   510.000000      51.000000   351.500000   165.000000   \n",
       "\n",
       "        Day Charge     Eve Mins    Eve Calls   Eve Charge   Night Mins  \\\n",
       "count  4616.000000  4616.000000  4616.000000  4616.000000  4616.000000   \n",
       "mean     30.673458   200.429744   100.180026    17.036759   200.614385   \n",
       "std       9.175693    50.562458    19.823454     4.297796    50.544926   \n",
       "min       0.000000     0.000000     0.000000     0.000000    23.200000   \n",
       "25%      24.430000   165.875000    87.000000    14.097500   167.100000   \n",
       "50%      30.600000   200.800000   101.000000    17.070000   200.800000   \n",
       "75%      36.860000   234.025000   114.000000    19.892500   234.900000   \n",
       "max      59.760000   363.700000   170.000000    30.910000   395.000000   \n",
       "\n",
       "       Night Calls  Night Charge  International Mins  International calls  \\\n",
       "count  4616.000000   4616.000000         4616.000000          4616.000000   \n",
       "mean     99.946057      9.027756           10.279354             4.434142   \n",
       "std      19.936777      2.274547            2.757657             2.457790   \n",
       "min      12.000000      1.040000            0.000000             0.000000   \n",
       "25%      86.750000      7.520000            8.600000             3.000000   \n",
       "50%     100.000000      9.040000           10.350000             4.000000   \n",
       "75%     113.000000     10.570000           12.100000             6.000000   \n",
       "max     175.000000     17.770000           20.000000            20.000000   \n",
       "\n",
       "       International Charge  CustServ Calls        Churn  \n",
       "count           4616.000000     4616.000000  4616.000000  \n",
       "mean               2.775942        1.567158     0.142114  \n",
       "std                0.744493        1.307134     0.349205  \n",
       "min                0.000000        0.000000     0.000000  \n",
       "25%                2.320000        1.000000     0.000000  \n",
       "50%                2.795000        1.000000     0.000000  \n",
       "75%                3.270000        2.000000     0.000000  \n",
       "max                5.400000        9.000000     1.000000  "
      ]
     },
     "execution_count": 12,
     "metadata": {},
     "output_type": "execute_result"
    }
   ],
   "source": [
    "data.describe()"
   ]
  },
  {
   "cell_type": "code",
   "execution_count": 13,
   "metadata": {},
   "outputs": [
    {
     "data": {
      "text/html": [
       "<div>\n",
       "<style scoped>\n",
       "    .dataframe tbody tr th:only-of-type {\n",
       "        vertical-align: middle;\n",
       "    }\n",
       "\n",
       "    .dataframe tbody tr th {\n",
       "        vertical-align: top;\n",
       "    }\n",
       "\n",
       "    .dataframe thead th {\n",
       "        text-align: right;\n",
       "    }\n",
       "</style>\n",
       "<table border=\"1\" class=\"dataframe\">\n",
       "  <thead>\n",
       "    <tr style=\"text-align: right;\">\n",
       "      <th></th>\n",
       "      <th>Account Length</th>\n",
       "      <th>Area Code</th>\n",
       "      <th>VMail Message</th>\n",
       "      <th>Day Mins</th>\n",
       "      <th>Day Calls</th>\n",
       "      <th>Day Charge</th>\n",
       "      <th>Eve Mins</th>\n",
       "      <th>Eve Calls</th>\n",
       "      <th>Eve Charge</th>\n",
       "      <th>Night Mins</th>\n",
       "      <th>Night Calls</th>\n",
       "      <th>Night Charge</th>\n",
       "      <th>International Mins</th>\n",
       "      <th>International calls</th>\n",
       "      <th>International Charge</th>\n",
       "      <th>CustServ Calls</th>\n",
       "      <th>Churn</th>\n",
       "    </tr>\n",
       "  </thead>\n",
       "  <tbody>\n",
       "    <tr>\n",
       "      <th>Account Length</th>\n",
       "      <td>1.000000</td>\n",
       "      <td>-0.020318</td>\n",
       "      <td>-0.013175</td>\n",
       "      <td>0.001768</td>\n",
       "      <td>0.032711</td>\n",
       "      <td>0.001765</td>\n",
       "      <td>-0.006770</td>\n",
       "      <td>0.015608</td>\n",
       "      <td>-0.006766</td>\n",
       "      <td>-0.002208</td>\n",
       "      <td>-0.009415</td>\n",
       "      <td>-0.002226</td>\n",
       "      <td>0.003498</td>\n",
       "      <td>0.023575</td>\n",
       "      <td>0.003517</td>\n",
       "      <td>0.002685</td>\n",
       "      <td>0.018108</td>\n",
       "    </tr>\n",
       "    <tr>\n",
       "      <th>Area Code</th>\n",
       "      <td>-0.020318</td>\n",
       "      <td>1.000000</td>\n",
       "      <td>-0.002455</td>\n",
       "      <td>-0.018729</td>\n",
       "      <td>-0.013123</td>\n",
       "      <td>-0.018731</td>\n",
       "      <td>0.011507</td>\n",
       "      <td>-0.011535</td>\n",
       "      <td>0.011527</td>\n",
       "      <td>0.002893</td>\n",
       "      <td>0.015267</td>\n",
       "      <td>0.002880</td>\n",
       "      <td>-0.007303</td>\n",
       "      <td>-0.011598</td>\n",
       "      <td>-0.007398</td>\n",
       "      <td>0.020999</td>\n",
       "      <td>0.011950</td>\n",
       "    </tr>\n",
       "    <tr>\n",
       "      <th>VMail Message</th>\n",
       "      <td>-0.013175</td>\n",
       "      <td>-0.002455</td>\n",
       "      <td>1.000000</td>\n",
       "      <td>0.008603</td>\n",
       "      <td>-0.003983</td>\n",
       "      <td>0.008600</td>\n",
       "      <td>0.017891</td>\n",
       "      <td>-0.006493</td>\n",
       "      <td>0.017898</td>\n",
       "      <td>0.004435</td>\n",
       "      <td>0.001012</td>\n",
       "      <td>0.004428</td>\n",
       "      <td>0.005195</td>\n",
       "      <td>0.007584</td>\n",
       "      <td>0.005231</td>\n",
       "      <td>-0.006834</td>\n",
       "      <td>-0.096792</td>\n",
       "    </tr>\n",
       "    <tr>\n",
       "      <th>Day Mins</th>\n",
       "      <td>0.001768</td>\n",
       "      <td>-0.018729</td>\n",
       "      <td>0.008603</td>\n",
       "      <td>1.000000</td>\n",
       "      <td>-0.002994</td>\n",
       "      <td>1.000000</td>\n",
       "      <td>-0.010243</td>\n",
       "      <td>0.013014</td>\n",
       "      <td>-0.010250</td>\n",
       "      <td>0.009311</td>\n",
       "      <td>0.005319</td>\n",
       "      <td>0.009298</td>\n",
       "      <td>-0.012283</td>\n",
       "      <td>0.000364</td>\n",
       "      <td>-0.012229</td>\n",
       "      <td>-0.008003</td>\n",
       "      <td>0.202635</td>\n",
       "    </tr>\n",
       "    <tr>\n",
       "      <th>Day Calls</th>\n",
       "      <td>0.032711</td>\n",
       "      <td>-0.013123</td>\n",
       "      <td>-0.003983</td>\n",
       "      <td>-0.002994</td>\n",
       "      <td>1.000000</td>\n",
       "      <td>-0.002992</td>\n",
       "      <td>-0.006424</td>\n",
       "      <td>0.003930</td>\n",
       "      <td>-0.006423</td>\n",
       "      <td>0.010636</td>\n",
       "      <td>-0.013251</td>\n",
       "      <td>0.010630</td>\n",
       "      <td>0.012962</td>\n",
       "      <td>0.010953</td>\n",
       "      <td>0.013066</td>\n",
       "      <td>-0.008701</td>\n",
       "      <td>0.016313</td>\n",
       "    </tr>\n",
       "    <tr>\n",
       "      <th>Day Charge</th>\n",
       "      <td>0.001765</td>\n",
       "      <td>-0.018731</td>\n",
       "      <td>0.008600</td>\n",
       "      <td>1.000000</td>\n",
       "      <td>-0.002992</td>\n",
       "      <td>1.000000</td>\n",
       "      <td>-0.010237</td>\n",
       "      <td>0.013015</td>\n",
       "      <td>-0.010245</td>\n",
       "      <td>0.009313</td>\n",
       "      <td>0.005318</td>\n",
       "      <td>0.009300</td>\n",
       "      <td>-0.012284</td>\n",
       "      <td>0.000361</td>\n",
       "      <td>-0.012231</td>\n",
       "      <td>-0.008010</td>\n",
       "      <td>0.202630</td>\n",
       "    </tr>\n",
       "    <tr>\n",
       "      <th>Eve Mins</th>\n",
       "      <td>-0.006770</td>\n",
       "      <td>0.011507</td>\n",
       "      <td>0.017891</td>\n",
       "      <td>-0.010243</td>\n",
       "      <td>-0.006424</td>\n",
       "      <td>-0.010237</td>\n",
       "      <td>1.000000</td>\n",
       "      <td>0.001135</td>\n",
       "      <td>1.000000</td>\n",
       "      <td>-0.018820</td>\n",
       "      <td>0.014221</td>\n",
       "      <td>-0.018827</td>\n",
       "      <td>0.000164</td>\n",
       "      <td>0.005742</td>\n",
       "      <td>0.000171</td>\n",
       "      <td>-0.015604</td>\n",
       "      <td>0.087039</td>\n",
       "    </tr>\n",
       "    <tr>\n",
       "      <th>Eve Calls</th>\n",
       "      <td>0.015608</td>\n",
       "      <td>-0.011535</td>\n",
       "      <td>-0.006493</td>\n",
       "      <td>0.013014</td>\n",
       "      <td>0.003930</td>\n",
       "      <td>0.013015</td>\n",
       "      <td>0.001135</td>\n",
       "      <td>1.000000</td>\n",
       "      <td>0.001150</td>\n",
       "      <td>0.002621</td>\n",
       "      <td>-0.015469</td>\n",
       "      <td>0.002636</td>\n",
       "      <td>-0.002799</td>\n",
       "      <td>0.005191</td>\n",
       "      <td>-0.002832</td>\n",
       "      <td>0.007724</td>\n",
       "      <td>0.001938</td>\n",
       "    </tr>\n",
       "    <tr>\n",
       "      <th>Eve Charge</th>\n",
       "      <td>-0.006766</td>\n",
       "      <td>0.011527</td>\n",
       "      <td>0.017898</td>\n",
       "      <td>-0.010250</td>\n",
       "      <td>-0.006423</td>\n",
       "      <td>-0.010245</td>\n",
       "      <td>1.000000</td>\n",
       "      <td>0.001150</td>\n",
       "      <td>1.000000</td>\n",
       "      <td>-0.018829</td>\n",
       "      <td>0.014225</td>\n",
       "      <td>-0.018836</td>\n",
       "      <td>0.000161</td>\n",
       "      <td>0.005744</td>\n",
       "      <td>0.000169</td>\n",
       "      <td>-0.015617</td>\n",
       "      <td>0.087032</td>\n",
       "    </tr>\n",
       "    <tr>\n",
       "      <th>Night Mins</th>\n",
       "      <td>-0.002208</td>\n",
       "      <td>0.002893</td>\n",
       "      <td>0.004435</td>\n",
       "      <td>0.009311</td>\n",
       "      <td>0.010636</td>\n",
       "      <td>0.009313</td>\n",
       "      <td>-0.018820</td>\n",
       "      <td>0.002621</td>\n",
       "      <td>-0.018829</td>\n",
       "      <td>1.000000</td>\n",
       "      <td>0.025830</td>\n",
       "      <td>0.999999</td>\n",
       "      <td>-0.004530</td>\n",
       "      <td>-0.014543</td>\n",
       "      <td>-0.004481</td>\n",
       "      <td>-0.013791</td>\n",
       "      <td>0.043344</td>\n",
       "    </tr>\n",
       "    <tr>\n",
       "      <th>Night Calls</th>\n",
       "      <td>-0.009415</td>\n",
       "      <td>0.015267</td>\n",
       "      <td>0.001012</td>\n",
       "      <td>0.005319</td>\n",
       "      <td>-0.013251</td>\n",
       "      <td>0.005318</td>\n",
       "      <td>0.014221</td>\n",
       "      <td>-0.015469</td>\n",
       "      <td>0.014225</td>\n",
       "      <td>0.025830</td>\n",
       "      <td>1.000000</td>\n",
       "      <td>0.025810</td>\n",
       "      <td>-0.006441</td>\n",
       "      <td>0.003237</td>\n",
       "      <td>-0.006450</td>\n",
       "      <td>-0.010300</td>\n",
       "      <td>-0.006711</td>\n",
       "    </tr>\n",
       "    <tr>\n",
       "      <th>Night Charge</th>\n",
       "      <td>-0.002226</td>\n",
       "      <td>0.002880</td>\n",
       "      <td>0.004428</td>\n",
       "      <td>0.009298</td>\n",
       "      <td>0.010630</td>\n",
       "      <td>0.009300</td>\n",
       "      <td>-0.018827</td>\n",
       "      <td>0.002636</td>\n",
       "      <td>-0.018836</td>\n",
       "      <td>0.999999</td>\n",
       "      <td>0.025810</td>\n",
       "      <td>1.000000</td>\n",
       "      <td>-0.004528</td>\n",
       "      <td>-0.014515</td>\n",
       "      <td>-0.004478</td>\n",
       "      <td>-0.013788</td>\n",
       "      <td>0.043341</td>\n",
       "    </tr>\n",
       "    <tr>\n",
       "      <th>International Mins</th>\n",
       "      <td>0.003498</td>\n",
       "      <td>-0.007303</td>\n",
       "      <td>0.005195</td>\n",
       "      <td>-0.012283</td>\n",
       "      <td>0.012962</td>\n",
       "      <td>-0.012284</td>\n",
       "      <td>0.000164</td>\n",
       "      <td>-0.002799</td>\n",
       "      <td>0.000161</td>\n",
       "      <td>-0.004530</td>\n",
       "      <td>-0.006441</td>\n",
       "      <td>-0.004528</td>\n",
       "      <td>1.000000</td>\n",
       "      <td>0.021419</td>\n",
       "      <td>0.999993</td>\n",
       "      <td>-0.016089</td>\n",
       "      <td>0.064723</td>\n",
       "    </tr>\n",
       "    <tr>\n",
       "      <th>International calls</th>\n",
       "      <td>0.023575</td>\n",
       "      <td>-0.011598</td>\n",
       "      <td>0.007584</td>\n",
       "      <td>0.000364</td>\n",
       "      <td>0.010953</td>\n",
       "      <td>0.000361</td>\n",
       "      <td>0.005742</td>\n",
       "      <td>0.005191</td>\n",
       "      <td>0.005744</td>\n",
       "      <td>-0.014543</td>\n",
       "      <td>0.003237</td>\n",
       "      <td>-0.014515</td>\n",
       "      <td>0.021419</td>\n",
       "      <td>1.000000</td>\n",
       "      <td>0.021536</td>\n",
       "      <td>-0.016834</td>\n",
       "      <td>-0.045898</td>\n",
       "    </tr>\n",
       "    <tr>\n",
       "      <th>International Charge</th>\n",
       "      <td>0.003517</td>\n",
       "      <td>-0.007398</td>\n",
       "      <td>0.005231</td>\n",
       "      <td>-0.012229</td>\n",
       "      <td>0.013066</td>\n",
       "      <td>-0.012231</td>\n",
       "      <td>0.000171</td>\n",
       "      <td>-0.002832</td>\n",
       "      <td>0.000169</td>\n",
       "      <td>-0.004481</td>\n",
       "      <td>-0.006450</td>\n",
       "      <td>-0.004478</td>\n",
       "      <td>0.999993</td>\n",
       "      <td>0.021536</td>\n",
       "      <td>1.000000</td>\n",
       "      <td>-0.016158</td>\n",
       "      <td>0.064720</td>\n",
       "    </tr>\n",
       "    <tr>\n",
       "      <th>CustServ Calls</th>\n",
       "      <td>0.002685</td>\n",
       "      <td>0.020999</td>\n",
       "      <td>-0.006834</td>\n",
       "      <td>-0.008003</td>\n",
       "      <td>-0.008701</td>\n",
       "      <td>-0.008010</td>\n",
       "      <td>-0.015604</td>\n",
       "      <td>0.007724</td>\n",
       "      <td>-0.015617</td>\n",
       "      <td>-0.013791</td>\n",
       "      <td>-0.010300</td>\n",
       "      <td>-0.013788</td>\n",
       "      <td>-0.016089</td>\n",
       "      <td>-0.016834</td>\n",
       "      <td>-0.016158</td>\n",
       "      <td>1.000000</td>\n",
       "      <td>0.209320</td>\n",
       "    </tr>\n",
       "    <tr>\n",
       "      <th>Churn</th>\n",
       "      <td>0.018108</td>\n",
       "      <td>0.011950</td>\n",
       "      <td>-0.096792</td>\n",
       "      <td>0.202635</td>\n",
       "      <td>0.016313</td>\n",
       "      <td>0.202630</td>\n",
       "      <td>0.087039</td>\n",
       "      <td>0.001938</td>\n",
       "      <td>0.087032</td>\n",
       "      <td>0.043344</td>\n",
       "      <td>-0.006711</td>\n",
       "      <td>0.043341</td>\n",
       "      <td>0.064723</td>\n",
       "      <td>-0.045898</td>\n",
       "      <td>0.064720</td>\n",
       "      <td>0.209320</td>\n",
       "      <td>1.000000</td>\n",
       "    </tr>\n",
       "  </tbody>\n",
       "</table>\n",
       "</div>"
      ],
      "text/plain": [
       "                      Account Length  Area Code  VMail Message  Day Mins  \\\n",
       "Account Length              1.000000  -0.020318      -0.013175  0.001768   \n",
       "Area Code                  -0.020318   1.000000      -0.002455 -0.018729   \n",
       "VMail Message              -0.013175  -0.002455       1.000000  0.008603   \n",
       "Day Mins                    0.001768  -0.018729       0.008603  1.000000   \n",
       "Day Calls                   0.032711  -0.013123      -0.003983 -0.002994   \n",
       "Day Charge                  0.001765  -0.018731       0.008600  1.000000   \n",
       "Eve Mins                   -0.006770   0.011507       0.017891 -0.010243   \n",
       "Eve Calls                   0.015608  -0.011535      -0.006493  0.013014   \n",
       "Eve Charge                 -0.006766   0.011527       0.017898 -0.010250   \n",
       "Night Mins                 -0.002208   0.002893       0.004435  0.009311   \n",
       "Night Calls                -0.009415   0.015267       0.001012  0.005319   \n",
       "Night Charge               -0.002226   0.002880       0.004428  0.009298   \n",
       "International Mins          0.003498  -0.007303       0.005195 -0.012283   \n",
       "International calls         0.023575  -0.011598       0.007584  0.000364   \n",
       "International Charge        0.003517  -0.007398       0.005231 -0.012229   \n",
       "CustServ Calls              0.002685   0.020999      -0.006834 -0.008003   \n",
       "Churn                       0.018108   0.011950      -0.096792  0.202635   \n",
       "\n",
       "                      Day Calls  Day Charge  Eve Mins  Eve Calls  Eve Charge  \\\n",
       "Account Length         0.032711    0.001765 -0.006770   0.015608   -0.006766   \n",
       "Area Code             -0.013123   -0.018731  0.011507  -0.011535    0.011527   \n",
       "VMail Message         -0.003983    0.008600  0.017891  -0.006493    0.017898   \n",
       "Day Mins              -0.002994    1.000000 -0.010243   0.013014   -0.010250   \n",
       "Day Calls              1.000000   -0.002992 -0.006424   0.003930   -0.006423   \n",
       "Day Charge            -0.002992    1.000000 -0.010237   0.013015   -0.010245   \n",
       "Eve Mins              -0.006424   -0.010237  1.000000   0.001135    1.000000   \n",
       "Eve Calls              0.003930    0.013015  0.001135   1.000000    0.001150   \n",
       "Eve Charge            -0.006423   -0.010245  1.000000   0.001150    1.000000   \n",
       "Night Mins             0.010636    0.009313 -0.018820   0.002621   -0.018829   \n",
       "Night Calls           -0.013251    0.005318  0.014221  -0.015469    0.014225   \n",
       "Night Charge           0.010630    0.009300 -0.018827   0.002636   -0.018836   \n",
       "International Mins     0.012962   -0.012284  0.000164  -0.002799    0.000161   \n",
       "International calls    0.010953    0.000361  0.005742   0.005191    0.005744   \n",
       "International Charge   0.013066   -0.012231  0.000171  -0.002832    0.000169   \n",
       "CustServ Calls        -0.008701   -0.008010 -0.015604   0.007724   -0.015617   \n",
       "Churn                  0.016313    0.202630  0.087039   0.001938    0.087032   \n",
       "\n",
       "                      Night Mins  Night Calls  Night Charge  \\\n",
       "Account Length         -0.002208    -0.009415     -0.002226   \n",
       "Area Code               0.002893     0.015267      0.002880   \n",
       "VMail Message           0.004435     0.001012      0.004428   \n",
       "Day Mins                0.009311     0.005319      0.009298   \n",
       "Day Calls               0.010636    -0.013251      0.010630   \n",
       "Day Charge              0.009313     0.005318      0.009300   \n",
       "Eve Mins               -0.018820     0.014221     -0.018827   \n",
       "Eve Calls               0.002621    -0.015469      0.002636   \n",
       "Eve Charge             -0.018829     0.014225     -0.018836   \n",
       "Night Mins              1.000000     0.025830      0.999999   \n",
       "Night Calls             0.025830     1.000000      0.025810   \n",
       "Night Charge            0.999999     0.025810      1.000000   \n",
       "International Mins     -0.004530    -0.006441     -0.004528   \n",
       "International calls    -0.014543     0.003237     -0.014515   \n",
       "International Charge   -0.004481    -0.006450     -0.004478   \n",
       "CustServ Calls         -0.013791    -0.010300     -0.013788   \n",
       "Churn                   0.043344    -0.006711      0.043341   \n",
       "\n",
       "                      International Mins  International calls  \\\n",
       "Account Length                  0.003498             0.023575   \n",
       "Area Code                      -0.007303            -0.011598   \n",
       "VMail Message                   0.005195             0.007584   \n",
       "Day Mins                       -0.012283             0.000364   \n",
       "Day Calls                       0.012962             0.010953   \n",
       "Day Charge                     -0.012284             0.000361   \n",
       "Eve Mins                        0.000164             0.005742   \n",
       "Eve Calls                      -0.002799             0.005191   \n",
       "Eve Charge                      0.000161             0.005744   \n",
       "Night Mins                     -0.004530            -0.014543   \n",
       "Night Calls                    -0.006441             0.003237   \n",
       "Night Charge                   -0.004528            -0.014515   \n",
       "International Mins              1.000000             0.021419   \n",
       "International calls             0.021419             1.000000   \n",
       "International Charge            0.999993             0.021536   \n",
       "CustServ Calls                 -0.016089            -0.016834   \n",
       "Churn                           0.064723            -0.045898   \n",
       "\n",
       "                      International Charge  CustServ Calls     Churn  \n",
       "Account Length                    0.003517        0.002685  0.018108  \n",
       "Area Code                        -0.007398        0.020999  0.011950  \n",
       "VMail Message                     0.005231       -0.006834 -0.096792  \n",
       "Day Mins                         -0.012229       -0.008003  0.202635  \n",
       "Day Calls                         0.013066       -0.008701  0.016313  \n",
       "Day Charge                       -0.012231       -0.008010  0.202630  \n",
       "Eve Mins                          0.000171       -0.015604  0.087039  \n",
       "Eve Calls                        -0.002832        0.007724  0.001938  \n",
       "Eve Charge                        0.000169       -0.015617  0.087032  \n",
       "Night Mins                       -0.004481       -0.013791  0.043344  \n",
       "Night Calls                      -0.006450       -0.010300 -0.006711  \n",
       "Night Charge                     -0.004478       -0.013788  0.043341  \n",
       "International Mins                0.999993       -0.016089  0.064723  \n",
       "International calls               0.021536       -0.016834 -0.045898  \n",
       "International Charge              1.000000       -0.016158  0.064720  \n",
       "CustServ Calls                   -0.016158        1.000000  0.209320  \n",
       "Churn                             0.064720        0.209320  1.000000  "
      ]
     },
     "execution_count": 13,
     "metadata": {},
     "output_type": "execute_result"
    }
   ],
   "source": [
    "data.corr()"
   ]
  },
  {
   "cell_type": "code",
   "execution_count": 14,
   "metadata": {},
   "outputs": [],
   "source": [
    "from sklearn.preprocessing import LabelEncoder"
   ]
  },
  {
   "cell_type": "code",
   "execution_count": 15,
   "metadata": {},
   "outputs": [],
   "source": [
    "data['International Plan'] = LabelEncoder().fit_transform(data['International Plan'])\n",
    "data['VMail Plan'] = LabelEncoder().fit_transform(data['VMail Plan'])"
   ]
  },
  {
   "cell_type": "code",
   "execution_count": 16,
   "metadata": {},
   "outputs": [
    {
     "data": {
      "text/html": [
       "<div>\n",
       "<style scoped>\n",
       "    .dataframe tbody tr th:only-of-type {\n",
       "        vertical-align: middle;\n",
       "    }\n",
       "\n",
       "    .dataframe tbody tr th {\n",
       "        vertical-align: top;\n",
       "    }\n",
       "\n",
       "    .dataframe thead th {\n",
       "        text-align: right;\n",
       "    }\n",
       "</style>\n",
       "<table border=\"1\" class=\"dataframe\">\n",
       "  <thead>\n",
       "    <tr style=\"text-align: right;\">\n",
       "      <th></th>\n",
       "      <th>State</th>\n",
       "      <th>Account Length</th>\n",
       "      <th>Area Code</th>\n",
       "      <th>Phone</th>\n",
       "      <th>International Plan</th>\n",
       "      <th>VMail Plan</th>\n",
       "      <th>VMail Message</th>\n",
       "      <th>Day Mins</th>\n",
       "      <th>Day Calls</th>\n",
       "      <th>Day Charge</th>\n",
       "      <th>...</th>\n",
       "      <th>Eve Calls</th>\n",
       "      <th>Eve Charge</th>\n",
       "      <th>Night Mins</th>\n",
       "      <th>Night Calls</th>\n",
       "      <th>Night Charge</th>\n",
       "      <th>International Mins</th>\n",
       "      <th>International calls</th>\n",
       "      <th>International Charge</th>\n",
       "      <th>CustServ Calls</th>\n",
       "      <th>Churn</th>\n",
       "    </tr>\n",
       "  </thead>\n",
       "  <tbody>\n",
       "    <tr>\n",
       "      <th>0</th>\n",
       "      <td>OH</td>\n",
       "      <td>107</td>\n",
       "      <td>415</td>\n",
       "      <td>371-7191</td>\n",
       "      <td>0</td>\n",
       "      <td>1</td>\n",
       "      <td>26</td>\n",
       "      <td>161.6</td>\n",
       "      <td>123</td>\n",
       "      <td>27.47</td>\n",
       "      <td>...</td>\n",
       "      <td>103</td>\n",
       "      <td>16.62</td>\n",
       "      <td>254.4</td>\n",
       "      <td>103</td>\n",
       "      <td>11.45</td>\n",
       "      <td>13.7</td>\n",
       "      <td>3</td>\n",
       "      <td>3.70</td>\n",
       "      <td>1</td>\n",
       "      <td>0</td>\n",
       "    </tr>\n",
       "    <tr>\n",
       "      <th>1</th>\n",
       "      <td>NJ</td>\n",
       "      <td>137</td>\n",
       "      <td>415</td>\n",
       "      <td>358-1921</td>\n",
       "      <td>0</td>\n",
       "      <td>0</td>\n",
       "      <td>0</td>\n",
       "      <td>243.4</td>\n",
       "      <td>114</td>\n",
       "      <td>41.38</td>\n",
       "      <td>...</td>\n",
       "      <td>110</td>\n",
       "      <td>10.30</td>\n",
       "      <td>162.6</td>\n",
       "      <td>104</td>\n",
       "      <td>7.32</td>\n",
       "      <td>12.2</td>\n",
       "      <td>5</td>\n",
       "      <td>3.29</td>\n",
       "      <td>0</td>\n",
       "      <td>0</td>\n",
       "    </tr>\n",
       "    <tr>\n",
       "      <th>2</th>\n",
       "      <td>OH</td>\n",
       "      <td>84</td>\n",
       "      <td>408</td>\n",
       "      <td>375-9999</td>\n",
       "      <td>1</td>\n",
       "      <td>0</td>\n",
       "      <td>0</td>\n",
       "      <td>299.4</td>\n",
       "      <td>71</td>\n",
       "      <td>50.90</td>\n",
       "      <td>...</td>\n",
       "      <td>88</td>\n",
       "      <td>5.26</td>\n",
       "      <td>196.9</td>\n",
       "      <td>89</td>\n",
       "      <td>8.86</td>\n",
       "      <td>6.6</td>\n",
       "      <td>7</td>\n",
       "      <td>1.78</td>\n",
       "      <td>2</td>\n",
       "      <td>0</td>\n",
       "    </tr>\n",
       "    <tr>\n",
       "      <th>3</th>\n",
       "      <td>OK</td>\n",
       "      <td>75</td>\n",
       "      <td>415</td>\n",
       "      <td>330-6626</td>\n",
       "      <td>1</td>\n",
       "      <td>0</td>\n",
       "      <td>0</td>\n",
       "      <td>166.7</td>\n",
       "      <td>113</td>\n",
       "      <td>28.34</td>\n",
       "      <td>...</td>\n",
       "      <td>122</td>\n",
       "      <td>12.61</td>\n",
       "      <td>186.9</td>\n",
       "      <td>121</td>\n",
       "      <td>8.41</td>\n",
       "      <td>10.1</td>\n",
       "      <td>3</td>\n",
       "      <td>2.73</td>\n",
       "      <td>3</td>\n",
       "      <td>0</td>\n",
       "    </tr>\n",
       "    <tr>\n",
       "      <th>4</th>\n",
       "      <td>AL</td>\n",
       "      <td>118</td>\n",
       "      <td>510</td>\n",
       "      <td>391-8027</td>\n",
       "      <td>1</td>\n",
       "      <td>0</td>\n",
       "      <td>0</td>\n",
       "      <td>223.4</td>\n",
       "      <td>98</td>\n",
       "      <td>37.98</td>\n",
       "      <td>...</td>\n",
       "      <td>101</td>\n",
       "      <td>18.75</td>\n",
       "      <td>203.9</td>\n",
       "      <td>118</td>\n",
       "      <td>9.18</td>\n",
       "      <td>6.3</td>\n",
       "      <td>6</td>\n",
       "      <td>1.70</td>\n",
       "      <td>0</td>\n",
       "      <td>0</td>\n",
       "    </tr>\n",
       "  </tbody>\n",
       "</table>\n",
       "<p>5 rows × 21 columns</p>\n",
       "</div>"
      ],
      "text/plain": [
       "  State  Account Length  Area Code      Phone  International Plan  VMail Plan  \\\n",
       "0    OH             107        415   371-7191                   0           1   \n",
       "1    NJ             137        415   358-1921                   0           0   \n",
       "2    OH              84        408   375-9999                   1           0   \n",
       "3    OK              75        415   330-6626                   1           0   \n",
       "4    AL             118        510   391-8027                   1           0   \n",
       "\n",
       "   VMail Message  Day Mins  Day Calls  Day Charge  ...  Eve Calls  Eve Charge  \\\n",
       "0             26     161.6        123       27.47  ...        103       16.62   \n",
       "1              0     243.4        114       41.38  ...        110       10.30   \n",
       "2              0     299.4         71       50.90  ...         88        5.26   \n",
       "3              0     166.7        113       28.34  ...        122       12.61   \n",
       "4              0     223.4         98       37.98  ...        101       18.75   \n",
       "\n",
       "   Night Mins  Night Calls  Night Charge  International Mins  \\\n",
       "0       254.4          103         11.45                13.7   \n",
       "1       162.6          104          7.32                12.2   \n",
       "2       196.9           89          8.86                 6.6   \n",
       "3       186.9          121          8.41                10.1   \n",
       "4       203.9          118          9.18                 6.3   \n",
       "\n",
       "   International calls  International Charge  CustServ Calls  Churn  \n",
       "0                    3                  3.70               1      0  \n",
       "1                    5                  3.29               0      0  \n",
       "2                    7                  1.78               2      0  \n",
       "3                    3                  2.73               3      0  \n",
       "4                    6                  1.70               0      0  \n",
       "\n",
       "[5 rows x 21 columns]"
      ]
     },
     "execution_count": 16,
     "metadata": {},
     "output_type": "execute_result"
    }
   ],
   "source": [
    "data.head()"
   ]
  },
  {
   "cell_type": "code",
   "execution_count": 17,
   "metadata": {},
   "outputs": [
    {
     "data": {
      "text/html": [
       "<div>\n",
       "<style scoped>\n",
       "    .dataframe tbody tr th:only-of-type {\n",
       "        vertical-align: middle;\n",
       "    }\n",
       "\n",
       "    .dataframe tbody tr th {\n",
       "        vertical-align: top;\n",
       "    }\n",
       "\n",
       "    .dataframe thead th {\n",
       "        text-align: right;\n",
       "    }\n",
       "</style>\n",
       "<table border=\"1\" class=\"dataframe\">\n",
       "  <thead>\n",
       "    <tr style=\"text-align: right;\">\n",
       "      <th></th>\n",
       "      <th>Account Length</th>\n",
       "      <th>Area Code</th>\n",
       "      <th>International Plan</th>\n",
       "      <th>VMail Plan</th>\n",
       "      <th>VMail Message</th>\n",
       "      <th>Day Mins</th>\n",
       "      <th>Day Calls</th>\n",
       "      <th>Day Charge</th>\n",
       "      <th>Eve Mins</th>\n",
       "      <th>Eve Calls</th>\n",
       "      <th>Eve Charge</th>\n",
       "      <th>Night Mins</th>\n",
       "      <th>Night Calls</th>\n",
       "      <th>Night Charge</th>\n",
       "      <th>International Mins</th>\n",
       "      <th>International calls</th>\n",
       "      <th>International Charge</th>\n",
       "      <th>CustServ Calls</th>\n",
       "      <th>Churn</th>\n",
       "    </tr>\n",
       "  </thead>\n",
       "  <tbody>\n",
       "    <tr>\n",
       "      <th>count</th>\n",
       "      <td>4616.000000</td>\n",
       "      <td>4616.000000</td>\n",
       "      <td>4616.000000</td>\n",
       "      <td>4616.000000</td>\n",
       "      <td>4616.000000</td>\n",
       "      <td>4616.000000</td>\n",
       "      <td>4616.000000</td>\n",
       "      <td>4616.000000</td>\n",
       "      <td>4616.000000</td>\n",
       "      <td>4616.000000</td>\n",
       "      <td>4616.000000</td>\n",
       "      <td>4616.000000</td>\n",
       "      <td>4616.000000</td>\n",
       "      <td>4616.000000</td>\n",
       "      <td>4616.000000</td>\n",
       "      <td>4616.000000</td>\n",
       "      <td>4616.000000</td>\n",
       "      <td>4616.000000</td>\n",
       "      <td>4616.000000</td>\n",
       "    </tr>\n",
       "    <tr>\n",
       "      <th>mean</th>\n",
       "      <td>100.639298</td>\n",
       "      <td>437.051127</td>\n",
       "      <td>0.096620</td>\n",
       "      <td>0.267548</td>\n",
       "      <td>7.846187</td>\n",
       "      <td>180.428813</td>\n",
       "      <td>100.052210</td>\n",
       "      <td>30.673458</td>\n",
       "      <td>200.429744</td>\n",
       "      <td>100.180026</td>\n",
       "      <td>17.036759</td>\n",
       "      <td>200.614385</td>\n",
       "      <td>99.946057</td>\n",
       "      <td>9.027756</td>\n",
       "      <td>10.279354</td>\n",
       "      <td>4.434142</td>\n",
       "      <td>2.775942</td>\n",
       "      <td>1.567158</td>\n",
       "      <td>0.142114</td>\n",
       "    </tr>\n",
       "    <tr>\n",
       "      <th>std</th>\n",
       "      <td>39.599436</td>\n",
       "      <td>42.291548</td>\n",
       "      <td>0.295472</td>\n",
       "      <td>0.442728</td>\n",
       "      <td>13.591461</td>\n",
       "      <td>53.975003</td>\n",
       "      <td>19.884642</td>\n",
       "      <td>9.175693</td>\n",
       "      <td>50.562458</td>\n",
       "      <td>19.823454</td>\n",
       "      <td>4.297796</td>\n",
       "      <td>50.544926</td>\n",
       "      <td>19.936777</td>\n",
       "      <td>2.274547</td>\n",
       "      <td>2.757657</td>\n",
       "      <td>2.457790</td>\n",
       "      <td>0.744493</td>\n",
       "      <td>1.307134</td>\n",
       "      <td>0.349205</td>\n",
       "    </tr>\n",
       "    <tr>\n",
       "      <th>min</th>\n",
       "      <td>1.000000</td>\n",
       "      <td>408.000000</td>\n",
       "      <td>0.000000</td>\n",
       "      <td>0.000000</td>\n",
       "      <td>0.000000</td>\n",
       "      <td>0.000000</td>\n",
       "      <td>0.000000</td>\n",
       "      <td>0.000000</td>\n",
       "      <td>0.000000</td>\n",
       "      <td>0.000000</td>\n",
       "      <td>0.000000</td>\n",
       "      <td>23.200000</td>\n",
       "      <td>12.000000</td>\n",
       "      <td>1.040000</td>\n",
       "      <td>0.000000</td>\n",
       "      <td>0.000000</td>\n",
       "      <td>0.000000</td>\n",
       "      <td>0.000000</td>\n",
       "      <td>0.000000</td>\n",
       "    </tr>\n",
       "    <tr>\n",
       "      <th>25%</th>\n",
       "      <td>73.750000</td>\n",
       "      <td>408.000000</td>\n",
       "      <td>0.000000</td>\n",
       "      <td>0.000000</td>\n",
       "      <td>0.000000</td>\n",
       "      <td>143.700000</td>\n",
       "      <td>87.000000</td>\n",
       "      <td>24.430000</td>\n",
       "      <td>165.875000</td>\n",
       "      <td>87.000000</td>\n",
       "      <td>14.097500</td>\n",
       "      <td>167.100000</td>\n",
       "      <td>86.750000</td>\n",
       "      <td>7.520000</td>\n",
       "      <td>8.600000</td>\n",
       "      <td>3.000000</td>\n",
       "      <td>2.320000</td>\n",
       "      <td>1.000000</td>\n",
       "      <td>0.000000</td>\n",
       "    </tr>\n",
       "    <tr>\n",
       "      <th>50%</th>\n",
       "      <td>100.000000</td>\n",
       "      <td>415.000000</td>\n",
       "      <td>0.000000</td>\n",
       "      <td>0.000000</td>\n",
       "      <td>0.000000</td>\n",
       "      <td>180.000000</td>\n",
       "      <td>100.000000</td>\n",
       "      <td>30.600000</td>\n",
       "      <td>200.800000</td>\n",
       "      <td>101.000000</td>\n",
       "      <td>17.070000</td>\n",
       "      <td>200.800000</td>\n",
       "      <td>100.000000</td>\n",
       "      <td>9.040000</td>\n",
       "      <td>10.350000</td>\n",
       "      <td>4.000000</td>\n",
       "      <td>2.795000</td>\n",
       "      <td>1.000000</td>\n",
       "      <td>0.000000</td>\n",
       "    </tr>\n",
       "    <tr>\n",
       "      <th>75%</th>\n",
       "      <td>127.000000</td>\n",
       "      <td>510.000000</td>\n",
       "      <td>0.000000</td>\n",
       "      <td>1.000000</td>\n",
       "      <td>17.000000</td>\n",
       "      <td>216.800000</td>\n",
       "      <td>113.000000</td>\n",
       "      <td>36.860000</td>\n",
       "      <td>234.025000</td>\n",
       "      <td>114.000000</td>\n",
       "      <td>19.892500</td>\n",
       "      <td>234.900000</td>\n",
       "      <td>113.000000</td>\n",
       "      <td>10.570000</td>\n",
       "      <td>12.100000</td>\n",
       "      <td>6.000000</td>\n",
       "      <td>3.270000</td>\n",
       "      <td>2.000000</td>\n",
       "      <td>0.000000</td>\n",
       "    </tr>\n",
       "    <tr>\n",
       "      <th>max</th>\n",
       "      <td>243.000000</td>\n",
       "      <td>510.000000</td>\n",
       "      <td>1.000000</td>\n",
       "      <td>1.000000</td>\n",
       "      <td>51.000000</td>\n",
       "      <td>351.500000</td>\n",
       "      <td>165.000000</td>\n",
       "      <td>59.760000</td>\n",
       "      <td>363.700000</td>\n",
       "      <td>170.000000</td>\n",
       "      <td>30.910000</td>\n",
       "      <td>395.000000</td>\n",
       "      <td>175.000000</td>\n",
       "      <td>17.770000</td>\n",
       "      <td>20.000000</td>\n",
       "      <td>20.000000</td>\n",
       "      <td>5.400000</td>\n",
       "      <td>9.000000</td>\n",
       "      <td>1.000000</td>\n",
       "    </tr>\n",
       "  </tbody>\n",
       "</table>\n",
       "</div>"
      ],
      "text/plain": [
       "       Account Length    Area Code  International Plan   VMail Plan  \\\n",
       "count     4616.000000  4616.000000         4616.000000  4616.000000   \n",
       "mean       100.639298   437.051127            0.096620     0.267548   \n",
       "std         39.599436    42.291548            0.295472     0.442728   \n",
       "min          1.000000   408.000000            0.000000     0.000000   \n",
       "25%         73.750000   408.000000            0.000000     0.000000   \n",
       "50%        100.000000   415.000000            0.000000     0.000000   \n",
       "75%        127.000000   510.000000            0.000000     1.000000   \n",
       "max        243.000000   510.000000            1.000000     1.000000   \n",
       "\n",
       "       VMail Message     Day Mins    Day Calls   Day Charge     Eve Mins  \\\n",
       "count    4616.000000  4616.000000  4616.000000  4616.000000  4616.000000   \n",
       "mean        7.846187   180.428813   100.052210    30.673458   200.429744   \n",
       "std        13.591461    53.975003    19.884642     9.175693    50.562458   \n",
       "min         0.000000     0.000000     0.000000     0.000000     0.000000   \n",
       "25%         0.000000   143.700000    87.000000    24.430000   165.875000   \n",
       "50%         0.000000   180.000000   100.000000    30.600000   200.800000   \n",
       "75%        17.000000   216.800000   113.000000    36.860000   234.025000   \n",
       "max        51.000000   351.500000   165.000000    59.760000   363.700000   \n",
       "\n",
       "         Eve Calls   Eve Charge   Night Mins  Night Calls  Night Charge  \\\n",
       "count  4616.000000  4616.000000  4616.000000  4616.000000   4616.000000   \n",
       "mean    100.180026    17.036759   200.614385    99.946057      9.027756   \n",
       "std      19.823454     4.297796    50.544926    19.936777      2.274547   \n",
       "min       0.000000     0.000000    23.200000    12.000000      1.040000   \n",
       "25%      87.000000    14.097500   167.100000    86.750000      7.520000   \n",
       "50%     101.000000    17.070000   200.800000   100.000000      9.040000   \n",
       "75%     114.000000    19.892500   234.900000   113.000000     10.570000   \n",
       "max     170.000000    30.910000   395.000000   175.000000     17.770000   \n",
       "\n",
       "       International Mins  International calls  International Charge  \\\n",
       "count         4616.000000          4616.000000           4616.000000   \n",
       "mean            10.279354             4.434142              2.775942   \n",
       "std              2.757657             2.457790              0.744493   \n",
       "min              0.000000             0.000000              0.000000   \n",
       "25%              8.600000             3.000000              2.320000   \n",
       "50%             10.350000             4.000000              2.795000   \n",
       "75%             12.100000             6.000000              3.270000   \n",
       "max             20.000000            20.000000              5.400000   \n",
       "\n",
       "       CustServ Calls        Churn  \n",
       "count     4616.000000  4616.000000  \n",
       "mean         1.567158     0.142114  \n",
       "std          1.307134     0.349205  \n",
       "min          0.000000     0.000000  \n",
       "25%          1.000000     0.000000  \n",
       "50%          1.000000     0.000000  \n",
       "75%          2.000000     0.000000  \n",
       "max          9.000000     1.000000  "
      ]
     },
     "execution_count": 17,
     "metadata": {},
     "output_type": "execute_result"
    }
   ],
   "source": [
    "data.describe()"
   ]
  },
  {
   "cell_type": "markdown",
   "metadata": {},
   "source": [
    "## Data Visualization\n",
    "\n",
    "- State \n",
    "- Account Length\n",
    "- Area Code - 3 codes - 408, 415, 510\n",
    "- Phone \n",
    "- International Plan - When 0 then churn mostly 0\n",
    "- VMail Plan - When  1 less likely to be churn 1\n",
    "- VMail Message - When Vmail Plan is 0 then Vmail MEssage is 0 When Vmail Plan is 1 then Vmail MEssage is some constant\n",
    "- Day Mins, Calls, Charge\n",
    "- Eve Mins, Calls, Charge\n",
    "- Night Mins, Calls, Charge\n",
    "- International Mins, Calls, Charge\n",
    "- CustServ Calls - 10 types\n",
    "- Churn - Output"
   ]
  },
  {
   "cell_type": "code",
   "execution_count": 18,
   "metadata": {},
   "outputs": [],
   "source": [
    "## State"
   ]
  },
  {
   "cell_type": "code",
   "execution_count": 19,
   "metadata": {},
   "outputs": [
    {
     "data": {
      "text/plain": [
       "WV    149\n",
       "AL    114\n",
       "MN    112\n",
       "OH    110\n",
       "ID    110\n",
       "NY    109\n",
       "VA    109\n",
       "OR    107\n",
       "NJ    106\n",
       "WY    106\n",
       "TX    105\n",
       "UT    104\n",
       "WI     99\n",
       "MI     98\n",
       "MA     97\n",
       "KS     95\n",
       "VT     95\n",
       "ME     95\n",
       "CT     92\n",
       "MD     92\n",
       "MT     92\n",
       "MS     91\n",
       "NH     91\n",
       "CO     91\n",
       "RI     90\n",
       "KY     90\n",
       "WA     89\n",
       "NV     89\n",
       "IN     89\n",
       "DE     89\n",
       "FL     85\n",
       "NM     84\n",
       "MO     84\n",
       "SC     83\n",
       "NC     83\n",
       "TN     83\n",
       "DC     82\n",
       "AZ     81\n",
       "OK     80\n",
       "ND     80\n",
       "IL     79\n",
       "NE     79\n",
       "HI     79\n",
       "GA     77\n",
       "AR     77\n",
       "SD     76\n",
       "LA     73\n",
       "AK     69\n",
       "PA     68\n",
       "IA     65\n",
       "CA     44\n",
       "Name: State, dtype: int64"
      ]
     },
     "execution_count": 19,
     "metadata": {},
     "output_type": "execute_result"
    }
   ],
   "source": [
    "data['State'].value_counts()"
   ]
  },
  {
   "cell_type": "code",
   "execution_count": 20,
   "metadata": {},
   "outputs": [],
   "source": [
    "## check outliers"
   ]
  },
  {
   "cell_type": "code",
   "execution_count": 21,
   "metadata": {},
   "outputs": [
    {
     "data": {
      "text/plain": [
       "<matplotlib.axes._subplots.AxesSubplot at 0x247059484a8>"
      ]
     },
     "execution_count": 21,
     "metadata": {},
     "output_type": "execute_result"
    },
    {
     "data": {
      "image/png": "[encoded data removed]",
      "text/plain": [
       "<Figure size 432x288 with 1 Axes>"
      ]
     },
     "metadata": {
      "needs_background": "light"
     },
     "output_type": "display_data"
    }
   ],
   "source": [
    "sns.boxplot(data['Account Length'])  # there are few outliers"
   ]
  },
  {
   "cell_type": "code",
   "execution_count": 22,
   "metadata": {},
   "outputs": [
    {
     "data": {
      "text/plain": [
       "32"
      ]
     },
     "execution_count": 22,
     "metadata": {},
     "output_type": "execute_result"
    }
   ],
   "source": [
    "data[data['Account Length'] > 200]['Account Length'].count()"
   ]
  },
  {
   "cell_type": "code",
   "execution_count": 23,
   "metadata": {},
   "outputs": [
    {
     "data": {
      "text/plain": [
       "0    3960\n",
       "1     656\n",
       "Name: Churn, dtype: int64"
      ]
     },
     "execution_count": 23,
     "metadata": {},
     "output_type": "execute_result"
    }
   ],
   "source": [
    "data['Churn'].value_counts()"
   ]
  },
  {
   "cell_type": "code",
   "execution_count": 24,
   "metadata": {},
   "outputs": [
    {
     "data": {
      "text/plain": [
       "<matplotlib.axes._subplots.AxesSubplot at 0x24705c3eb70>"
      ]
     },
     "execution_count": 24,
     "metadata": {},
     "output_type": "execute_result"
    },
    {
     "data": {
      "image/png": "[encoded data removed]",
      "text/plain": [
       "<Figure size 432x288 with 1 Axes>"
      ]
     },
     "metadata": {
      "needs_background": "light"
     },
     "output_type": "display_data"
    }
   ],
   "source": [
    "sns.barplot('International Plan','Churn',data = data)"
   ]
  },
  {
   "cell_type": "code",
   "execution_count": 25,
   "metadata": {},
   "outputs": [
    {
     "data": {
      "text/plain": [
       "<matplotlib.axes._subplots.AxesSubplot at 0x24705ce2e48>"
      ]
     },
     "execution_count": 25,
     "metadata": {},
     "output_type": "execute_result"
    },
    {
     "data": {
      "image/png": "[encoded data removed]",
      "text/plain": [
       "<Figure size 432x288 with 1 Axes>"
      ]
     },
     "metadata": {
      "needs_background": "light"
     },
     "output_type": "display_data"
    }
   ],
   "source": [
    "sns.countplot(x='International Plan',hue='Churn',data=data)"
   ]
  },
  {
   "cell_type": "code",
   "execution_count": 26,
   "metadata": {},
   "outputs": [
    {
     "data": {
      "text/plain": [
       "<matplotlib.axes._subplots.AxesSubplot at 0x24705d48080>"
      ]
     },
     "execution_count": 26,
     "metadata": {},
     "output_type": "execute_result"
    },
    {
     "data": {
      "image/png": "[encoded data removed]",
      "text/plain": [
       "<Figure size 432x288 with 1 Axes>"
      ]
     },
     "metadata": {
      "needs_background": "light"
     },
     "output_type": "display_data"
    }
   ],
   "source": [
    "sns.barplot('Area Code','Churn',data = data)  ## area codes are not much dependent on Chrun"
   ]
  },
  {
   "cell_type": "code",
   "execution_count": 27,
   "metadata": {},
   "outputs": [
    {
     "data": {
      "text/plain": [
       "<matplotlib.axes._subplots.AxesSubplot at 0x24705dc0240>"
      ]
     },
     "execution_count": 27,
     "metadata": {},
     "output_type": "execute_result"
    },
    {
     "data": {
      "image/png": "[encoded data removed]",
      "text/plain": [
       "<Figure size 432x288 with 1 Axes>"
      ]
     },
     "metadata": {
      "needs_background": "light"
     },
     "output_type": "display_data"
    }
   ],
   "source": [
    "sns.countplot(x='Area Code',hue='Churn',data=data)"
   ]
  },
  {
   "cell_type": "code",
   "execution_count": 28,
   "metadata": {},
   "outputs": [
    {
     "data": {
      "text/plain": [
       "<matplotlib.axes._subplots.AxesSubplot at 0x24705e1f518>"
      ]
     },
     "execution_count": 28,
     "metadata": {},
     "output_type": "execute_result"
    },
    {
     "data": {
      "image/png": "[encoded data removed]",
      "text/plain": [
       "<Figure size 432x288 with 1 Axes>"
      ]
     },
     "metadata": {
      "needs_background": "light"
     },
     "output_type": "display_data"
    }
   ],
   "source": [
    "sns.barplot('VMail Plan','Churn', data= data) ## People with No Vmail are more likely to stay"
   ]
  },
  {
   "cell_type": "code",
   "execution_count": 29,
   "metadata": {},
   "outputs": [
    {
     "data": {
      "text/plain": [
       "<matplotlib.axes._subplots.AxesSubplot at 0x24705e7ee10>"
      ]
     },
     "execution_count": 29,
     "metadata": {},
     "output_type": "execute_result"
    },
    {
     "data": {
      "image/png": "[encoded data removed]",
      "text/plain": [
       "<Figure size 432x288 with 1 Axes>"
      ]
     },
     "metadata": {
      "needs_background": "light"
     },
     "output_type": "display_data"
    }
   ],
   "source": [
    "sns.countplot(x='VMail Plan',hue='Churn',data=data)"
   ]
  },
  {
   "cell_type": "code",
   "execution_count": 30,
   "metadata": {},
   "outputs": [
    {
     "data": {
      "text/plain": [
       "<matplotlib.axes._subplots.AxesSubplot at 0x24705edfef0>"
      ]
     },
     "execution_count": 30,
     "metadata": {},
     "output_type": "execute_result"
    },
    {
     "data": {
      "image/png": "[encoded data removed]",
      "text/plain": [
       "<Figure size 432x288 with 1 Axes>"
      ]
     },
     "metadata": {
      "needs_background": "light"
     },
     "output_type": "display_data"
    }
   ],
   "source": [
    "sns.boxplot(data['VMail Message'])  ## there are few outliers"
   ]
  },
  {
   "cell_type": "code",
   "execution_count": 31,
   "metadata": {},
   "outputs": [
    {
     "data": {
      "text/plain": [
       "<matplotlib.axes._subplots.AxesSubplot at 0x24705f4e160>"
      ]
     },
     "execution_count": 31,
     "metadata": {},
     "output_type": "execute_result"
    },
    {
     "data": {
      "image/png": "[encoded data removed]",
      "text/plain": [
       "<Figure size 432x288 with 1 Axes>"
      ]
     },
     "metadata": {
      "needs_background": "light"
     },
     "output_type": "display_data"
    }
   ],
   "source": [
    "sns.barplot('VMail Plan', 'VMail Message', data= data)"
   ]
  },
  {
   "cell_type": "code",
   "execution_count": 32,
   "metadata": {},
   "outputs": [],
   "source": [
    "## No Vmail Plan then no Vmail message, so we remove Vmail message because no VmailPlan then VmailMessage is 0 else some value"
   ]
  },
  {
   "cell_type": "code",
   "execution_count": 33,
   "metadata": {},
   "outputs": [
    {
     "data": {
      "text/plain": [
       "<matplotlib.axes._subplots.AxesSubplot at 0x24705f898d0>"
      ]
     },
     "execution_count": 33,
     "metadata": {},
     "output_type": "execute_result"
    },
    {
     "data": {
      "image/png": "[encoded data removed]",
      "text/plain": [
       "<Figure size 432x288 with 1 Axes>"
      ]
     },
     "metadata": {
      "needs_background": "light"
     },
     "output_type": "display_data"
    }
   ],
   "source": [
    "sns.boxplot(data['Day Mins'])"
   ]
  },
  {
   "cell_type": "code",
   "execution_count": 34,
   "metadata": {},
   "outputs": [
    {
     "data": {
      "text/plain": [
       "<matplotlib.axes._subplots.AxesSubplot at 0x24706010cc0>"
      ]
     },
     "execution_count": 34,
     "metadata": {},
     "output_type": "execute_result"
    },
    {
     "data": {
      "image/png": "[encoded data removed]",
      "text/plain": [
       "<Figure size 432x288 with 1 Axes>"
      ]
     },
     "metadata": {
      "needs_background": "light"
     },
     "output_type": "display_data"
    }
   ],
   "source": [
    "sns.boxplot(data['Day Calls'])"
   ]
  },
  {
   "cell_type": "code",
   "execution_count": 35,
   "metadata": {},
   "outputs": [
    {
     "data": {
      "text/plain": [
       "<matplotlib.axes._subplots.AxesSubplot at 0x24706074898>"
      ]
     },
     "execution_count": 35,
     "metadata": {},
     "output_type": "execute_result"
    },
    {
     "data": {
      "image/png": "[encoded data removed]",
      "text/plain": [
       "<Figure size 432x288 with 1 Axes>"
      ]
     },
     "metadata": {
      "needs_background": "light"
     },
     "output_type": "display_data"
    }
   ],
   "source": [
    "sns.boxplot(data['Day Charge'])"
   ]
  },
  {
   "cell_type": "code",
   "execution_count": 36,
   "metadata": {},
   "outputs": [
    {
     "data": {
      "text/plain": [
       "{'whiskers': [<matplotlib.lines.Line2D at 0x24707198b38>,\n",
       "  <matplotlib.lines.Line2D at 0x24707198e80>],\n",
       " 'caps': [<matplotlib.lines.Line2D at 0x24707198f28>,\n",
       "  <matplotlib.lines.Line2D at 0x247071a6550>],\n",
       " 'boxes': [<matplotlib.lines.Line2D at 0x24707198710>],\n",
       " 'medians': [<matplotlib.lines.Line2D at 0x247071a6898>],\n",
       " 'fliers': [<matplotlib.lines.Line2D at 0x247071a6be0>],\n",
       " 'means': []}"
      ]
     },
     "execution_count": 36,
     "metadata": {},
     "output_type": "execute_result"
    },
    {
     "data": {
      "image/png": "[encoded data removed]",
      "text/plain": [
       "<Figure size 720x288 with 3 Axes>"
      ]
     },
     "metadata": {
      "needs_background": "light"
     },
     "output_type": "display_data"
    }
   ],
   "source": [
    "f, (ax1, ax2, ax3) = plt.subplots(1, 3, figsize=(10,4))\n",
    "ax1.set_title('Day Mins')\n",
    "ax1.boxplot(data['Day Mins'])\n",
    "ax2.set_title('Day Calls')\n",
    "ax2.boxplot(data['Day Calls'])\n",
    "ax3.set_title('Day Charge')\n",
    "ax3.boxplot(data['Day Charge'])"
   ]
  },
  {
   "cell_type": "code",
   "execution_count": 37,
   "metadata": {},
   "outputs": [
    {
     "data": {
      "text/plain": [
       "{'whiskers': [<matplotlib.lines.Line2D at 0x247072ca3c8>,\n",
       "  <matplotlib.lines.Line2D at 0x247072ca710>],\n",
       " 'caps': [<matplotlib.lines.Line2D at 0x247072caa58>,\n",
       "  <matplotlib.lines.Line2D at 0x247072cada0>],\n",
       " 'boxes': [<matplotlib.lines.Line2D at 0x247072bdcf8>],\n",
       " 'medians': [<matplotlib.lines.Line2D at 0x247072cae48>],\n",
       " 'fliers': [<matplotlib.lines.Line2D at 0x247072d7470>],\n",
       " 'means': []}"
      ]
     },
     "execution_count": 37,
     "metadata": {},
     "output_type": "execute_result"
    },
    {
     "data": {
      "image/png": "[encoded data removed]",
      "text/plain": [
       "<Figure size 720x288 with 3 Axes>"
      ]
     },
     "metadata": {
      "needs_background": "light"
     },
     "output_type": "display_data"
    }
   ],
   "source": [
    "f, (ax1, ax2, ax3) = plt.subplots(1, 3, figsize=(10,4))\n",
    "ax1.set_title('Eve Mins')\n",
    "ax1.boxplot(data['Eve Mins'])\n",
    "ax2.set_title('Eve Calls')\n",
    "ax2.boxplot(data['Eve Calls'])\n",
    "ax3.set_title('Eve Charge')\n",
    "ax3.boxplot(data['Eve Charge'])"
   ]
  },
  {
   "cell_type": "code",
   "execution_count": 38,
   "metadata": {},
   "outputs": [
    {
     "data": {
      "text/plain": [
       "{'whiskers': [<matplotlib.lines.Line2D at 0x247073eae48>,\n",
       "  <matplotlib.lines.Line2D at 0x247073f7470>],\n",
       " 'caps': [<matplotlib.lines.Line2D at 0x247073f77b8>,\n",
       "  <matplotlib.lines.Line2D at 0x247073f7b00>],\n",
       " 'boxes': [<matplotlib.lines.Line2D at 0x247073eaa58>],\n",
       " 'medians': [<matplotlib.lines.Line2D at 0x247073f7e48>],\n",
       " 'fliers': [<matplotlib.lines.Line2D at 0x247073f7ef0>],\n",
       " 'means': []}"
      ]
     },
     "execution_count": 38,
     "metadata": {},
     "output_type": "execute_result"
    },
    {
     "data": {
      "image/png": "[encoded data removed]",
      "text/plain": [
       "<Figure size 720x288 with 3 Axes>"
      ]
     },
     "metadata": {
      "needs_background": "light"
     },
     "output_type": "display_data"
    }
   ],
   "source": [
    "f, (ax1, ax2, ax3) = plt.subplots(1, 3, figsize=(10,4))\n",
    "ax1.set_title('Night Mins')\n",
    "ax1.boxplot(data['Night Mins'])\n",
    "ax2.set_title('Night Calls')\n",
    "ax2.boxplot(data['Night Calls'])\n",
    "ax3.set_title('Night Charge')\n",
    "ax3.boxplot(data['Night Charge'])"
   ]
  },
  {
   "cell_type": "code",
   "execution_count": 39,
   "metadata": {},
   "outputs": [
    {
     "data": {
      "text/plain": [
       "{'whiskers': [<matplotlib.lines.Line2D at 0x247084e43c8>,\n",
       "  <matplotlib.lines.Line2D at 0x247084e4710>],\n",
       " 'caps': [<matplotlib.lines.Line2D at 0x247084e4a58>,\n",
       "  <matplotlib.lines.Line2D at 0x247084e4da0>],\n",
       " 'boxes': [<matplotlib.lines.Line2D at 0x247084d6cf8>],\n",
       " 'medians': [<matplotlib.lines.Line2D at 0x247084e4e48>],\n",
       " 'fliers': [<matplotlib.lines.Line2D at 0x247084ef470>],\n",
       " 'means': []}"
      ]
     },
     "execution_count": 39,
     "metadata": {},
     "output_type": "execute_result"
    },
    {
     "data": {
      "image/png": "[encoded data removed]",
      "text/plain": [
       "<Figure size 720x288 with 3 Axes>"
      ]
     },
     "metadata": {
      "needs_background": "light"
     },
     "output_type": "display_data"
    }
   ],
   "source": [
    "f, (ax1, ax2, ax3) = plt.subplots(1, 3, figsize=(10,4))\n",
    "ax1.set_title('International Mins')\n",
    "ax1.boxplot(data['International Mins'])\n",
    "ax2.set_title('International calls')\n",
    "ax2.boxplot(data['International calls'])\n",
    "ax3.set_title('International Charge')\n",
    "ax3.boxplot(data['International Charge'])"
   ]
  },
  {
   "cell_type": "code",
   "execution_count": 40,
   "metadata": {},
   "outputs": [
    {
     "data": {
      "text/plain": [
       "<matplotlib.axes._subplots.AxesSubplot at 0x247084208d0>"
      ]
     },
     "execution_count": 40,
     "metadata": {},
     "output_type": "execute_result"
    },
    {
     "data": {
      "image/png": "[encoded data removed]",
      "text/plain": [
       "<Figure size 432x288 with 1 Axes>"
      ]
     },
     "metadata": {
      "needs_background": "light"
     },
     "output_type": "display_data"
    }
   ],
   "source": [
    "sns.countplot(x='International Plan',hue='International calls',data=data)"
   ]
  },
  {
   "cell_type": "code",
   "execution_count": 41,
   "metadata": {},
   "outputs": [
    {
     "data": {
      "text/plain": [
       "<matplotlib.axes._subplots.AxesSubplot at 0x24708411a58>"
      ]
     },
     "execution_count": 41,
     "metadata": {},
     "output_type": "execute_result"
    },
    {
     "data": {
      "image/png": "[encoded data removed]",
      "text/plain": [
       "<Figure size 432x288 with 1 Axes>"
      ]
     },
     "metadata": {
      "needs_background": "light"
     },
     "output_type": "display_data"
    }
   ],
   "source": [
    "sns.barplot('CustServ Calls','Churn',data = data)"
   ]
  },
  {
   "cell_type": "code",
   "execution_count": 42,
   "metadata": {},
   "outputs": [
    {
     "data": {
      "text/plain": [
       "<matplotlib.axes._subplots.AxesSubplot at 0x247086eafd0>"
      ]
     },
     "execution_count": 42,
     "metadata": {},
     "output_type": "execute_result"
    },
    {
     "data": {
      "image/png": "[encoded data removed]",
      "text/plain": [
       "<Figure size 432x288 with 1 Axes>"
      ]
     },
     "metadata": {
      "needs_background": "light"
     },
     "output_type": "display_data"
    }
   ],
   "source": [
    "sns.countplot(x='CustServ Calls',hue='Churn',data=data)"
   ]
  },
  {
   "cell_type": "code",
   "execution_count": 43,
   "metadata": {},
   "outputs": [
    {
     "name": "stdout",
     "output_type": "stream",
     "text": [
      "<class 'pandas.core.frame.DataFrame'>\n",
      "RangeIndex: 4616 entries, 0 to 4615\n",
      "Data columns (total 21 columns):\n",
      "State                   4616 non-null object\n",
      "Account Length          4616 non-null int64\n",
      "Area Code               4616 non-null int64\n",
      "Phone                   4616 non-null object\n",
      "International Plan      4616 non-null int32\n",
      "VMail Plan              4616 non-null int32\n",
      "VMail Message           4616 non-null int64\n",
      "Day Mins                4616 non-null float64\n",
      "Day Calls               4616 non-null int64\n",
      "Day Charge              4616 non-null float64\n",
      "Eve Mins                4616 non-null float64\n",
      "Eve Calls               4616 non-null int64\n",
      "Eve Charge              4616 non-null float64\n",
      "Night Mins              4616 non-null float64\n",
      "Night Calls             4616 non-null int64\n",
      "Night Charge            4616 non-null float64\n",
      "International Mins      4616 non-null float64\n",
      "International calls     4616 non-null int64\n",
      "International Charge    4616 non-null float64\n",
      "CustServ Calls          4616 non-null int64\n",
      "Churn                   4616 non-null int64\n",
      "dtypes: float64(8), int32(2), int64(9), object(2)\n",
      "memory usage: 721.3+ KB\n"
     ]
    }
   ],
   "source": [
    "data.info()"
   ]
  },
  {
   "cell_type": "markdown",
   "metadata": {},
   "source": [
    "# Feature Selection\n",
    "\n",
    "-  Drop state, Phone and Vmail Plan"
   ]
  },
  {
   "cell_type": "code",
   "execution_count": 44,
   "metadata": {},
   "outputs": [],
   "source": [
    "data.drop('State', axis=1, inplace = True)\n",
    "data.drop('Phone', axis=1, inplace = True)\n",
    "data.drop('VMail Plan', axis=1, inplace = True)"
   ]
  },
  {
   "cell_type": "code",
   "execution_count": 45,
   "metadata": {},
   "outputs": [
    {
     "data": {
      "text/html": [
       "<div>\n",
       "<style scoped>\n",
       "    .dataframe tbody tr th:only-of-type {\n",
       "        vertical-align: middle;\n",
       "    }\n",
       "\n",
       "    .dataframe tbody tr th {\n",
       "        vertical-align: top;\n",
       "    }\n",
       "\n",
       "    .dataframe thead th {\n",
       "        text-align: right;\n",
       "    }\n",
       "</style>\n",
       "<table border=\"1\" class=\"dataframe\">\n",
       "  <thead>\n",
       "    <tr style=\"text-align: right;\">\n",
       "      <th></th>\n",
       "      <th>Account Length</th>\n",
       "      <th>Area Code</th>\n",
       "      <th>International Plan</th>\n",
       "      <th>VMail Message</th>\n",
       "      <th>Day Mins</th>\n",
       "      <th>Day Calls</th>\n",
       "      <th>Day Charge</th>\n",
       "      <th>Eve Mins</th>\n",
       "      <th>Eve Calls</th>\n",
       "      <th>Eve Charge</th>\n",
       "      <th>Night Mins</th>\n",
       "      <th>Night Calls</th>\n",
       "      <th>Night Charge</th>\n",
       "      <th>International Mins</th>\n",
       "      <th>International calls</th>\n",
       "      <th>International Charge</th>\n",
       "      <th>CustServ Calls</th>\n",
       "      <th>Churn</th>\n",
       "    </tr>\n",
       "  </thead>\n",
       "  <tbody>\n",
       "    <tr>\n",
       "      <th>0</th>\n",
       "      <td>107</td>\n",
       "      <td>415</td>\n",
       "      <td>0</td>\n",
       "      <td>26</td>\n",
       "      <td>161.6</td>\n",
       "      <td>123</td>\n",
       "      <td>27.47</td>\n",
       "      <td>195.5</td>\n",
       "      <td>103</td>\n",
       "      <td>16.62</td>\n",
       "      <td>254.4</td>\n",
       "      <td>103</td>\n",
       "      <td>11.45</td>\n",
       "      <td>13.7</td>\n",
       "      <td>3</td>\n",
       "      <td>3.70</td>\n",
       "      <td>1</td>\n",
       "      <td>0</td>\n",
       "    </tr>\n",
       "    <tr>\n",
       "      <th>1</th>\n",
       "      <td>137</td>\n",
       "      <td>415</td>\n",
       "      <td>0</td>\n",
       "      <td>0</td>\n",
       "      <td>243.4</td>\n",
       "      <td>114</td>\n",
       "      <td>41.38</td>\n",
       "      <td>121.2</td>\n",
       "      <td>110</td>\n",
       "      <td>10.30</td>\n",
       "      <td>162.6</td>\n",
       "      <td>104</td>\n",
       "      <td>7.32</td>\n",
       "      <td>12.2</td>\n",
       "      <td>5</td>\n",
       "      <td>3.29</td>\n",
       "      <td>0</td>\n",
       "      <td>0</td>\n",
       "    </tr>\n",
       "    <tr>\n",
       "      <th>2</th>\n",
       "      <td>84</td>\n",
       "      <td>408</td>\n",
       "      <td>1</td>\n",
       "      <td>0</td>\n",
       "      <td>299.4</td>\n",
       "      <td>71</td>\n",
       "      <td>50.90</td>\n",
       "      <td>61.9</td>\n",
       "      <td>88</td>\n",
       "      <td>5.26</td>\n",
       "      <td>196.9</td>\n",
       "      <td>89</td>\n",
       "      <td>8.86</td>\n",
       "      <td>6.6</td>\n",
       "      <td>7</td>\n",
       "      <td>1.78</td>\n",
       "      <td>2</td>\n",
       "      <td>0</td>\n",
       "    </tr>\n",
       "    <tr>\n",
       "      <th>3</th>\n",
       "      <td>75</td>\n",
       "      <td>415</td>\n",
       "      <td>1</td>\n",
       "      <td>0</td>\n",
       "      <td>166.7</td>\n",
       "      <td>113</td>\n",
       "      <td>28.34</td>\n",
       "      <td>148.3</td>\n",
       "      <td>122</td>\n",
       "      <td>12.61</td>\n",
       "      <td>186.9</td>\n",
       "      <td>121</td>\n",
       "      <td>8.41</td>\n",
       "      <td>10.1</td>\n",
       "      <td>3</td>\n",
       "      <td>2.73</td>\n",
       "      <td>3</td>\n",
       "      <td>0</td>\n",
       "    </tr>\n",
       "    <tr>\n",
       "      <th>4</th>\n",
       "      <td>118</td>\n",
       "      <td>510</td>\n",
       "      <td>1</td>\n",
       "      <td>0</td>\n",
       "      <td>223.4</td>\n",
       "      <td>98</td>\n",
       "      <td>37.98</td>\n",
       "      <td>220.6</td>\n",
       "      <td>101</td>\n",
       "      <td>18.75</td>\n",
       "      <td>203.9</td>\n",
       "      <td>118</td>\n",
       "      <td>9.18</td>\n",
       "      <td>6.3</td>\n",
       "      <td>6</td>\n",
       "      <td>1.70</td>\n",
       "      <td>0</td>\n",
       "      <td>0</td>\n",
       "    </tr>\n",
       "  </tbody>\n",
       "</table>\n",
       "</div>"
      ],
      "text/plain": [
       "   Account Length  Area Code  International Plan  VMail Message  Day Mins  \\\n",
       "0             107        415                   0             26     161.6   \n",
       "1             137        415                   0              0     243.4   \n",
       "2              84        408                   1              0     299.4   \n",
       "3              75        415                   1              0     166.7   \n",
       "4             118        510                   1              0     223.4   \n",
       "\n",
       "   Day Calls  Day Charge  Eve Mins  Eve Calls  Eve Charge  Night Mins  \\\n",
       "0        123       27.47     195.5        103       16.62       254.4   \n",
       "1        114       41.38     121.2        110       10.30       162.6   \n",
       "2         71       50.90      61.9         88        5.26       196.9   \n",
       "3        113       28.34     148.3        122       12.61       186.9   \n",
       "4         98       37.98     220.6        101       18.75       203.9   \n",
       "\n",
       "   Night Calls  Night Charge  International Mins  International calls  \\\n",
       "0          103         11.45                13.7                    3   \n",
       "1          104          7.32                12.2                    5   \n",
       "2           89          8.86                 6.6                    7   \n",
       "3          121          8.41                10.1                    3   \n",
       "4          118          9.18                 6.3                    6   \n",
       "\n",
       "   International Charge  CustServ Calls  Churn  \n",
       "0                  3.70               1      0  \n",
       "1                  3.29               0      0  \n",
       "2                  1.78               2      0  \n",
       "3                  2.73               3      0  \n",
       "4                  1.70               0      0  "
      ]
     },
     "execution_count": 45,
     "metadata": {},
     "output_type": "execute_result"
    }
   ],
   "source": [
    "data.head()"
   ]
  },
  {
   "cell_type": "code",
   "execution_count": 46,
   "metadata": {},
   "outputs": [],
   "source": [
    "from sklearn.preprocessing import StandardScaler"
   ]
  },
  {
   "cell_type": "code",
   "execution_count": 47,
   "metadata": {},
   "outputs": [],
   "source": [
    "X = data.drop('Churn', axis=1).copy()\n",
    "y = data['Churn'].copy()"
   ]
  },
  {
   "cell_type": "markdown",
   "metadata": {},
   "source": [
    "## Model Selection"
   ]
  },
  {
   "cell_type": "code",
   "execution_count": 48,
   "metadata": {},
   "outputs": [],
   "source": [
    "from sklearn.linear_model import LogisticRegression\n",
    "from sklearn.tree import DecisionTreeClassifier\n",
    "from sklearn.ensemble import RandomForestClassifier, ExtraTreesClassifier, GradientBoostingClassifier\n",
    "from sklearn.svm import SVC\n",
    "from sklearn.neighbors import KNeighborsClassifier\n",
    "from sklearn.naive_bayes import MultinomialNB\n",
    "from sklearn.model_selection import cross_val_score"
   ]
  },
  {
   "cell_type": "code",
   "execution_count": 49,
   "metadata": {},
   "outputs": [],
   "source": [
    "clf_models = [LogisticRegression(), DecisionTreeClassifier(), RandomForestClassifier(), \n",
    "              ExtraTreesClassifier(), GradientBoostingClassifier(), SVC(),\n",
    "              KNeighborsClassifier(), MultinomialNB()]"
   ]
  },
  {
   "cell_type": "code",
   "execution_count": 50,
   "metadata": {},
   "outputs": [],
   "source": [
    "def find_clf(clfs, x, y, k):\n",
    "    means, stds = [], []\n",
    "    for clf in clfs:\n",
    "        try:\n",
    "            acc = cross_val_score(clf, x, y, cv = k, n_jobs=-1)\n",
    "            means.append(acc.mean())\n",
    "            stds.append(acc.std())\n",
    "            print(clf.__class__.__name__, ': mean = ', acc.mean(), ', std = ', acc.std())\n",
    "        except:\n",
    "            means.append(0)\n",
    "            stds.append(0)\n",
    "            print(clf.__class__.__name__, ': Not Applicable')\n",
    "    return means, stds"
   ]
  },
  {
   "cell_type": "code",
   "execution_count": 51,
   "metadata": {},
   "outputs": [
    {
     "name": "stdout",
     "output_type": "stream",
     "text": [
      "LogisticRegression : mean =  0.8626502605375845 , std =  0.004996280969986337\n",
      "DecisionTreeClassifier : mean =  0.9144297017536454 , std =  0.0076410773228365375\n",
      "RandomForestClassifier : mean =  0.9419397503904546 , std =  0.0035533644519041107\n",
      "ExtraTreesClassifier : mean =  0.9252590132871823 , std =  0.0028486719682985877\n",
      "GradientBoostingClassifier : mean =  0.9503888130648693 , std =  0.0037288522692285205\n",
      "SVC : mean =  0.8578857761956353 , std =  0.0003714595263891063\n",
      "KNeighborsClassifier : mean =  0.8775996304165318 , std =  0.005934392216461703\n",
      "MultinomialNB : mean =  0.643203041090365 , std =  0.020160325768470128\n"
     ]
    },
    {
     "data": {
      "text/plain": [
       "([0.8626502605375845,\n",
       "  0.9144297017536454,\n",
       "  0.9419397503904546,\n",
       "  0.9252590132871823,\n",
       "  0.9503888130648693,\n",
       "  0.8578857761956353,\n",
       "  0.8775996304165318,\n",
       "  0.643203041090365],\n",
       " [0.004996280969986337,\n",
       "  0.0076410773228365375,\n",
       "  0.0035533644519041107,\n",
       "  0.0028486719682985877,\n",
       "  0.0037288522692285205,\n",
       "  0.0003714595263891063,\n",
       "  0.005934392216461703,\n",
       "  0.020160325768470128])"
      ]
     },
     "execution_count": 51,
     "metadata": {},
     "output_type": "execute_result"
    }
   ],
   "source": [
    "find_clf(clf_models, X, y, 5)"
   ]
  },
  {
   "cell_type": "code",
   "execution_count": 52,
   "metadata": {},
   "outputs": [],
   "source": [
    "from sklearn.preprocessing import StandardScaler"
   ]
  },
  {
   "cell_type": "code",
   "execution_count": 53,
   "metadata": {},
   "outputs": [],
   "source": [
    "X_scaled = StandardScaler().fit_transform(X)"
   ]
  },
  {
   "cell_type": "code",
   "execution_count": 54,
   "metadata": {},
   "outputs": [
    {
     "name": "stdout",
     "output_type": "stream",
     "text": [
      "LogisticRegression : mean =  0.8630838644923152 , std =  0.006058960765647307\n",
      "DecisionTreeClassifier : mean =  0.9133455746131803 , std =  0.009288011846430713\n",
      "RandomForestClassifier : mean =  0.9441075356568314 , std =  0.007461596149110269\n",
      "ExtraTreesClassifier : mean =  0.9267765098751015 , std =  0.005244161099787018\n",
      "GradientBoostingClassifier : mean =  0.9503888130648693 , std =  0.0037288522692285205\n",
      "SVC : mean =  0.9224435189223922 , std =  0.0037934351429457142\n",
      "KNeighborsClassifier : mean =  0.8892987294395744 , std =  0.005442496715353831\n",
      "MultinomialNB : Not Applicable\n"
     ]
    },
    {
     "data": {
      "text/plain": [
       "([0.8630838644923152,\n",
       "  0.9133455746131803,\n",
       "  0.9441075356568314,\n",
       "  0.9267765098751015,\n",
       "  0.9503888130648693,\n",
       "  0.9224435189223922,\n",
       "  0.8892987294395744,\n",
       "  0],\n",
       " [0.006058960765647307,\n",
       "  0.009288011846430713,\n",
       "  0.007461596149110269,\n",
       "  0.005244161099787018,\n",
       "  0.0037288522692285205,\n",
       "  0.0037934351429457142,\n",
       "  0.005442496715353831,\n",
       "  0])"
      ]
     },
     "execution_count": 54,
     "metadata": {},
     "output_type": "execute_result"
    }
   ],
   "source": [
    "find_clf(clf_models, X_scaled, y, 5)"
   ]
  },
  {
   "cell_type": "markdown",
   "metadata": {},
   "source": [
    "## Hyper parameter tuning"
   ]
  },
  {
   "cell_type": "code",
   "execution_count": 55,
   "metadata": {},
   "outputs": [],
   "source": [
    "from sklearn.model_selection import GridSearchCV"
   ]
  },
  {
   "cell_type": "markdown",
   "metadata": {},
   "source": [
    "### DecisionTreeClassifier, RandomForestClassifier, ExtraTreesClassifier, GradientBoostingClassifier, SVC"
   ]
  },
  {
   "cell_type": "code",
   "execution_count": 56,
   "metadata": {},
   "outputs": [],
   "source": [
    "## Random Forest "
   ]
  },
  {
   "cell_type": "code",
   "execution_count": 59,
   "metadata": {},
   "outputs": [],
   "source": [
    "rf_params = {'max_features':[1, 3, 6, 9],\n",
    "             'min_samples_split':[2, 6, 10],\n",
    "             'min_samples_leaf':[1, 3, 6, 9],\n",
    "             'n_estimators': [100, 300, 500]}"
   ]
  },
  {
   "cell_type": "code",
   "execution_count": 60,
   "metadata": {},
   "outputs": [
    {
     "name": "stderr",
     "output_type": "stream",
     "text": [
      "C:\\ProgramData\\Anaconda3\\lib\\site-packages\\sklearn\\model_selection\\_split.py:1978: FutureWarning: The default value of cv will change from 3 to 5 in version 0.22. Specify it explicitly to silence this warning.\n",
      "  warnings.warn(CV_WARNING, FutureWarning)\n"
     ]
    },
    {
     "data": {
      "text/plain": [
       "GridSearchCV(cv='warn', error_score='raise-deprecating',\n",
       "             estimator=RandomForestClassifier(bootstrap=True, class_weight=None,\n",
       "                                              criterion='gini', max_depth=None,\n",
       "                                              max_features='auto',\n",
       "                                              max_leaf_nodes=None,\n",
       "                                              min_impurity_decrease=0.0,\n",
       "                                              min_impurity_split=None,\n",
       "                                              min_samples_leaf=1,\n",
       "                                              min_samples_split=2,\n",
       "                                              min_weight_fraction_leaf=0.0,\n",
       "                                              n_estimators='warn', n_jobs=None,\n",
       "                                              oob_score=False,\n",
       "                                              random_state=None, verbose=0,\n",
       "                                              warm_start=False),\n",
       "             iid='warn', n_jobs=-1,\n",
       "             param_grid={'max_features': [1, 3, 6, 9],\n",
       "                         'min_samples_leaf': [1, 3, 6, 9],\n",
       "                         'min_samples_split': [2, 6, 10],\n",
       "                         'n_estimators': [100, 300, 500]},\n",
       "             pre_dispatch='2*n_jobs', refit=True, return_train_score=False,\n",
       "             scoring=None, verbose=0)"
      ]
     },
     "execution_count": 60,
     "metadata": {},
     "output_type": "execute_result"
    }
   ],
   "source": [
    "rf_grid = GridSearchCV(RandomForestClassifier(), rf_params, n_jobs=-1)\n",
    "rf_grid.fit(X_scaled, y)"
   ]
  },
  {
   "cell_type": "code",
   "execution_count": 61,
   "metadata": {},
   "outputs": [],
   "source": [
    "et_params = {'min_samples_split':[2, 6, 10],\n",
    "             'min_samples_leaf':[1, 3, 6, 9],\n",
    "             'n_estimators': [100, 300, 500]}"
   ]
  },
  {
   "cell_type": "code",
   "execution_count": 62,
   "metadata": {},
   "outputs": [
    {
     "name": "stderr",
     "output_type": "stream",
     "text": [
      "C:\\ProgramData\\Anaconda3\\lib\\site-packages\\sklearn\\model_selection\\_split.py:1978: FutureWarning: The default value of cv will change from 3 to 5 in version 0.22. Specify it explicitly to silence this warning.\n",
      "  warnings.warn(CV_WARNING, FutureWarning)\n"
     ]
    },
    {
     "data": {
      "text/plain": [
       "GridSearchCV(cv='warn', error_score='raise-deprecating',\n",
       "             estimator=ExtraTreesClassifier(bootstrap=False, class_weight=None,\n",
       "                                            criterion='gini', max_depth=None,\n",
       "                                            max_features='auto',\n",
       "                                            max_leaf_nodes=None,\n",
       "                                            min_impurity_decrease=0.0,\n",
       "                                            min_impurity_split=None,\n",
       "                                            min_samples_leaf=1,\n",
       "                                            min_samples_split=2,\n",
       "                                            min_weight_fraction_leaf=0.0,\n",
       "                                            n_estimators='warn', n_jobs=None,\n",
       "                                            oob_score=False, random_state=None,\n",
       "                                            verbose=0, warm_start=False),\n",
       "             iid='warn', n_jobs=-1,\n",
       "             param_grid={'min_samples_leaf': [1, 3, 6, 9],\n",
       "                         'min_samples_split': [2, 6, 10],\n",
       "                         'n_estimators': [100, 300, 500]},\n",
       "             pre_dispatch='2*n_jobs', refit=True, return_train_score=False,\n",
       "             scoring=None, verbose=0)"
      ]
     },
     "execution_count": 62,
     "metadata": {},
     "output_type": "execute_result"
    }
   ],
   "source": [
    "et_grid = GridSearchCV(ExtraTreesClassifier(), et_params, n_jobs=-1)\n",
    "et_grid.fit(X_scaled, y)"
   ]
  },
  {
   "cell_type": "code",
   "execution_count": 63,
   "metadata": {},
   "outputs": [],
   "source": [
    "dt_params = {'max_features':[1, 3, 6, 9],\n",
    "             'min_samples_split':[2, 6, 10],\n",
    "             'min_samples_leaf':[1, 3, 6, 9]}"
   ]
  },
  {
   "cell_type": "code",
   "execution_count": 64,
   "metadata": {},
   "outputs": [
    {
     "name": "stderr",
     "output_type": "stream",
     "text": [
      "C:\\ProgramData\\Anaconda3\\lib\\site-packages\\sklearn\\model_selection\\_split.py:1978: FutureWarning: The default value of cv will change from 3 to 5 in version 0.22. Specify it explicitly to silence this warning.\n",
      "  warnings.warn(CV_WARNING, FutureWarning)\n"
     ]
    },
    {
     "data": {
      "text/plain": [
       "GridSearchCV(cv='warn', error_score='raise-deprecating',\n",
       "             estimator=DecisionTreeClassifier(class_weight=None,\n",
       "                                              criterion='gini', max_depth=None,\n",
       "                                              max_features=None,\n",
       "                                              max_leaf_nodes=None,\n",
       "                                              min_impurity_decrease=0.0,\n",
       "                                              min_impurity_split=None,\n",
       "                                              min_samples_leaf=1,\n",
       "                                              min_samples_split=2,\n",
       "                                              min_weight_fraction_leaf=0.0,\n",
       "                                              presort=False, random_state=None,\n",
       "                                              splitter='best'),\n",
       "             iid='warn', n_jobs=-1,\n",
       "             param_grid={'max_features': [1, 3, 6, 9],\n",
       "                         'min_samples_leaf': [1, 3, 6, 9],\n",
       "                         'min_samples_split': [2, 6, 10]},\n",
       "             pre_dispatch='2*n_jobs', refit=True, return_train_score=False,\n",
       "             scoring=None, verbose=0)"
      ]
     },
     "execution_count": 64,
     "metadata": {},
     "output_type": "execute_result"
    }
   ],
   "source": [
    "dt_grid = GridSearchCV(DecisionTreeClassifier(), dt_params, n_jobs=-1)\n",
    "dt_grid.fit(X_scaled, y)"
   ]
  },
  {
   "cell_type": "code",
   "execution_count": 65,
   "metadata": {},
   "outputs": [],
   "source": [
    "gt_params = {'learning_rate':[0.001,0.05,0.1],\n",
    "             'min_samples_split':[2, 6, 10],\n",
    "             'min_samples_leaf':[1, 3, 6, 9],\n",
    "             'n_estimators': [100, 300, 500],\n",
    "             'max_depth':[4,8]}"
   ]
  },
  {
   "cell_type": "code",
   "execution_count": 66,
   "metadata": {},
   "outputs": [
    {
     "name": "stderr",
     "output_type": "stream",
     "text": [
      "C:\\ProgramData\\Anaconda3\\lib\\site-packages\\sklearn\\model_selection\\_split.py:1978: FutureWarning: The default value of cv will change from 3 to 5 in version 0.22. Specify it explicitly to silence this warning.\n",
      "  warnings.warn(CV_WARNING, FutureWarning)\n"
     ]
    },
    {
     "data": {
      "text/plain": [
       "GridSearchCV(cv='warn', error_score='raise-deprecating',\n",
       "             estimator=GradientBoostingClassifier(criterion='friedman_mse',\n",
       "                                                  init=None, learning_rate=0.1,\n",
       "                                                  loss='deviance', max_depth=3,\n",
       "                                                  max_features=None,\n",
       "                                                  max_leaf_nodes=None,\n",
       "                                                  min_impurity_decrease=0.0,\n",
       "                                                  min_impurity_split=None,\n",
       "                                                  min_samples_leaf=1,\n",
       "                                                  min_samples_split=2,\n",
       "                                                  min_weight_fraction_leaf=0.0,\n",
       "                                                  n_estimators=100,\n",
       "                                                  n_it...\n",
       "                                                  random_state=None,\n",
       "                                                  subsample=1.0, tol=0.0001,\n",
       "                                                  validation_fraction=0.1,\n",
       "                                                  verbose=0, warm_start=False),\n",
       "             iid='warn', n_jobs=-1,\n",
       "             param_grid={'learning_rate': [0.001, 0.05, 0.1],\n",
       "                         'max_depth': [4, 8], 'min_samples_leaf': [1, 3, 6, 9],\n",
       "                         'min_samples_split': [2, 6, 10],\n",
       "                         'n_estimators': [100, 300, 500]},\n",
       "             pre_dispatch='2*n_jobs', refit=True, return_train_score=False,\n",
       "             scoring=None, verbose=0)"
      ]
     },
     "execution_count": 66,
     "metadata": {},
     "output_type": "execute_result"
    }
   ],
   "source": [
    "gt_grid = GridSearchCV(GradientBoostingClassifier(), gt_params, n_jobs=-1)\n",
    "gt_grid.fit(X_scaled, y)"
   ]
  },
  {
   "cell_type": "code",
   "execution_count": 67,
   "metadata": {},
   "outputs": [],
   "source": [
    "svc_params = {'kernel':['linear', 'rbf'],\n",
    "              'C':[0.1,1,10],\n",
    "              'gamma':[0.001,0.01,0.1,1]}\n"
   ]
  },
  {
   "cell_type": "code",
   "execution_count": 68,
   "metadata": {},
   "outputs": [
    {
     "name": "stderr",
     "output_type": "stream",
     "text": [
      "C:\\ProgramData\\Anaconda3\\lib\\site-packages\\sklearn\\model_selection\\_split.py:1978: FutureWarning: The default value of cv will change from 3 to 5 in version 0.22. Specify it explicitly to silence this warning.\n",
      "  warnings.warn(CV_WARNING, FutureWarning)\n"
     ]
    },
    {
     "data": {
      "text/plain": [
       "GridSearchCV(cv='warn', error_score='raise-deprecating',\n",
       "             estimator=SVC(C=1.0, cache_size=200, class_weight=None, coef0=0.0,\n",
       "                           decision_function_shape='ovr', degree=3,\n",
       "                           gamma='auto_deprecated', kernel='rbf', max_iter=-1,\n",
       "                           probability=False, random_state=None, shrinking=True,\n",
       "                           tol=0.001, verbose=False),\n",
       "             iid='warn', n_jobs=-1,\n",
       "             param_grid={'C': [0.1, 1, 10], 'gamma': [0.001, 0.01, 0.1, 1],\n",
       "                         'kernel': ['linear', 'rbf']},\n",
       "             pre_dispatch='2*n_jobs', refit=True, return_train_score=False,\n",
       "             scoring=None, verbose=0)"
      ]
     },
     "execution_count": 68,
     "metadata": {},
     "output_type": "execute_result"
    }
   ],
   "source": [
    "svc_grid = GridSearchCV(SVC(), svc_params, n_jobs=-1)\n",
    "svc_grid.fit(X_scaled, y)"
   ]
  },
  {
   "cell_type": "markdown",
   "metadata": {},
   "source": [
    "## Best Features"
   ]
  },
  {
   "cell_type": "code",
   "execution_count": 70,
   "metadata": {},
   "outputs": [
    {
     "data": {
      "text/plain": [
       "0.9564558058925476"
      ]
     },
     "execution_count": 70,
     "metadata": {},
     "output_type": "execute_result"
    }
   ],
   "source": [
    "rf_grid.best_score_"
   ]
  },
  {
   "cell_type": "code",
   "execution_count": 71,
   "metadata": {},
   "outputs": [
    {
     "data": {
      "text/plain": [
       "0.942157712305026"
      ]
     },
     "execution_count": 71,
     "metadata": {},
     "output_type": "execute_result"
    }
   ],
   "source": [
    "et_grid.best_score_"
   ]
  },
  {
   "cell_type": "code",
   "execution_count": 72,
   "metadata": {},
   "outputs": [
    {
     "data": {
      "text/plain": [
       "0.9584055459272097"
      ]
     },
     "execution_count": 72,
     "metadata": {},
     "output_type": "execute_result"
    }
   ],
   "source": [
    "gt_grid.best_score_"
   ]
  },
  {
   "cell_type": "code",
   "execution_count": 73,
   "metadata": {},
   "outputs": [
    {
     "data": {
      "text/plain": [
       "0.9395580589254766"
      ]
     },
     "execution_count": 73,
     "metadata": {},
     "output_type": "execute_result"
    }
   ],
   "source": [
    "dt_grid.best_score_"
   ]
  },
  {
   "cell_type": "code",
   "execution_count": 74,
   "metadata": {},
   "outputs": [
    {
     "data": {
      "text/plain": [
       "0.9168110918544194"
      ]
     },
     "execution_count": 74,
     "metadata": {},
     "output_type": "execute_result"
    }
   ],
   "source": [
    "svc_grid.best_score_"
   ]
  },
  {
   "cell_type": "code",
   "execution_count": 75,
   "metadata": {},
   "outputs": [
    {
     "data": {
      "text/plain": [
       "RandomForestClassifier(bootstrap=True, class_weight=None, criterion='gini',\n",
       "                       max_depth=None, max_features=6, max_leaf_nodes=None,\n",
       "                       min_impurity_decrease=0.0, min_impurity_split=None,\n",
       "                       min_samples_leaf=3, min_samples_split=6,\n",
       "                       min_weight_fraction_leaf=0.0, n_estimators=100,\n",
       "                       n_jobs=None, oob_score=False, random_state=None,\n",
       "                       verbose=0, warm_start=False)"
      ]
     },
     "execution_count": 75,
     "metadata": {},
     "output_type": "execute_result"
    }
   ],
   "source": [
    "rf_grid.best_estimator_"
   ]
  },
  {
   "cell_type": "code",
   "execution_count": 76,
   "metadata": {},
   "outputs": [
    {
     "data": {
      "text/plain": [
       "GradientBoostingClassifier(criterion='friedman_mse', init=None,\n",
       "                           learning_rate=0.1, loss='deviance', max_depth=8,\n",
       "                           max_features=None, max_leaf_nodes=None,\n",
       "                           min_impurity_decrease=0.0, min_impurity_split=None,\n",
       "                           min_samples_leaf=6, min_samples_split=6,\n",
       "                           min_weight_fraction_leaf=0.0, n_estimators=500,\n",
       "                           n_iter_no_change=None, presort='auto',\n",
       "                           random_state=None, subsample=1.0, tol=0.0001,\n",
       "                           validation_fraction=0.1, verbose=0,\n",
       "                           warm_start=False)"
      ]
     },
     "execution_count": 76,
     "metadata": {},
     "output_type": "execute_result"
    }
   ],
   "source": [
    "gt_grid.best_estimator_"
   ]
  },
  {
   "cell_type": "code",
   "execution_count": 77,
   "metadata": {},
   "outputs": [
    {
     "data": {
      "text/plain": [
       "ExtraTreesClassifier(bootstrap=False, class_weight=None, criterion='gini',\n",
       "                     max_depth=None, max_features='auto', max_leaf_nodes=None,\n",
       "                     min_impurity_decrease=0.0, min_impurity_split=None,\n",
       "                     min_samples_leaf=1, min_samples_split=6,\n",
       "                     min_weight_fraction_leaf=0.0, n_estimators=300,\n",
       "                     n_jobs=None, oob_score=False, random_state=None, verbose=0,\n",
       "                     warm_start=False)"
      ]
     },
     "execution_count": 77,
     "metadata": {},
     "output_type": "execute_result"
    }
   ],
   "source": [
    "et_grid.best_estimator_"
   ]
  },
  {
   "cell_type": "code",
   "execution_count": 78,
   "metadata": {},
   "outputs": [
    {
     "data": {
      "text/plain": [
       "DecisionTreeClassifier(class_weight=None, criterion='gini', max_depth=None,\n",
       "                       max_features=6, max_leaf_nodes=None,\n",
       "                       min_impurity_decrease=0.0, min_impurity_split=None,\n",
       "                       min_samples_leaf=6, min_samples_split=6,\n",
       "                       min_weight_fraction_leaf=0.0, presort=False,\n",
       "                       random_state=None, splitter='best')"
      ]
     },
     "execution_count": 78,
     "metadata": {},
     "output_type": "execute_result"
    }
   ],
   "source": [
    "dt_grid.best_estimator_"
   ]
  },
  {
   "cell_type": "code",
   "execution_count": 79,
   "metadata": {},
   "outputs": [
    {
     "data": {
      "text/plain": [
       "SVC(C=10, cache_size=200, class_weight=None, coef0=0.0,\n",
       "    decision_function_shape='ovr', degree=3, gamma=0.1, kernel='rbf',\n",
       "    max_iter=-1, probability=False, random_state=None, shrinking=True,\n",
       "    tol=0.001, verbose=False)"
      ]
     },
     "execution_count": 79,
     "metadata": {},
     "output_type": "execute_result"
    }
   ],
   "source": [
    "svc_grid.best_estimator_"
   ]
  },
  {
   "cell_type": "markdown",
   "metadata": {},
   "source": [
    "# Ensembling"
   ]
  },
  {
   "cell_type": "code",
   "execution_count": 80,
   "metadata": {},
   "outputs": [],
   "source": [
    "from sklearn.model_selection import train_test_split"
   ]
  },
  {
   "cell_type": "code",
   "execution_count": 81,
   "metadata": {},
   "outputs": [],
   "source": [
    "X_train, X_test, y_train, y_test = train_test_split(X, y, test_size=0.2)\n",
    "sc = StandardScaler()\n",
    "X_train = sc.fit_transform(X_train)\n",
    "X_test = sc.transform(X_test)"
   ]
  },
  {
   "cell_type": "code",
   "execution_count": 82,
   "metadata": {},
   "outputs": [],
   "source": [
    "rf = rf_grid.best_estimator_\n",
    "et = et_grid.best_estimator_\n",
    "gt = gt_grid.best_estimator_\n",
    "dt = dt_grid.best_estimator_"
   ]
  },
  {
   "cell_type": "code",
   "execution_count": 84,
   "metadata": {},
   "outputs": [],
   "source": [
    "prediction = pd.DataFrame(np.zeros((len(y_test), 4)), columns = 'rf et gt dt'.split())"
   ]
  },
  {
   "cell_type": "code",
   "execution_count": 85,
   "metadata": {},
   "outputs": [],
   "source": [
    "rf.fit(X_train, y_train)\n",
    "prediction['rf'] = rf.predict(X_test)\n",
    "et.fit(X_train, y_train)\n",
    "prediction['et'] = et.predict(X_test)\n",
    "gt.fit(X_train, y_train)\n",
    "prediction['gt'] = gt.predict(X_test)\n",
    "dt.fit(X_train, y_train)\n",
    "prediction['dt'] = dt.predict(X_test)"
   ]
  },
  {
   "cell_type": "code",
   "execution_count": 86,
   "metadata": {},
   "outputs": [
    {
     "data": {
      "text/html": [
       "<div>\n",
       "<style scoped>\n",
       "    .dataframe tbody tr th:only-of-type {\n",
       "        vertical-align: middle;\n",
       "    }\n",
       "\n",
       "    .dataframe tbody tr th {\n",
       "        vertical-align: top;\n",
       "    }\n",
       "\n",
       "    .dataframe thead th {\n",
       "        text-align: right;\n",
       "    }\n",
       "</style>\n",
       "<table border=\"1\" class=\"dataframe\">\n",
       "  <thead>\n",
       "    <tr style=\"text-align: right;\">\n",
       "      <th></th>\n",
       "      <th>rf</th>\n",
       "      <th>et</th>\n",
       "      <th>gt</th>\n",
       "      <th>dt</th>\n",
       "    </tr>\n",
       "  </thead>\n",
       "  <tbody>\n",
       "    <tr>\n",
       "      <th>rf</th>\n",
       "      <td>1.000000</td>\n",
       "      <td>0.852389</td>\n",
       "      <td>0.910117</td>\n",
       "      <td>0.778136</td>\n",
       "    </tr>\n",
       "    <tr>\n",
       "      <th>et</th>\n",
       "      <td>0.852389</td>\n",
       "      <td>1.000000</td>\n",
       "      <td>0.806689</td>\n",
       "      <td>0.688094</td>\n",
       "    </tr>\n",
       "    <tr>\n",
       "      <th>gt</th>\n",
       "      <td>0.910117</td>\n",
       "      <td>0.806689</td>\n",
       "      <td>1.000000</td>\n",
       "      <td>0.745732</td>\n",
       "    </tr>\n",
       "    <tr>\n",
       "      <th>dt</th>\n",
       "      <td>0.778136</td>\n",
       "      <td>0.688094</td>\n",
       "      <td>0.745732</td>\n",
       "      <td>1.000000</td>\n",
       "    </tr>\n",
       "  </tbody>\n",
       "</table>\n",
       "</div>"
      ],
      "text/plain": [
       "          rf        et        gt        dt\n",
       "rf  1.000000  0.852389  0.910117  0.778136\n",
       "et  0.852389  1.000000  0.806689  0.688094\n",
       "gt  0.910117  0.806689  1.000000  0.745732\n",
       "dt  0.778136  0.688094  0.745732  1.000000"
      ]
     },
     "execution_count": 86,
     "metadata": {},
     "output_type": "execute_result"
    }
   ],
   "source": [
    "prediction.corr()"
   ]
  },
  {
   "cell_type": "code",
   "execution_count": 87,
   "metadata": {},
   "outputs": [],
   "source": [
    "from sklearn.ensemble import VotingClassifier"
   ]
  },
  {
   "cell_type": "code",
   "execution_count": 88,
   "metadata": {},
   "outputs": [],
   "source": [
    "vc = VotingClassifier(estimators=[('rf', rf_grid.best_estimator_), \n",
    "                             ('et', et_grid.best_estimator_), \n",
    "                             ('gt', gt_grid.best_estimator_),\n",
    "                             ('dt', dt_grid.best_estimator_)], voting='soft')"
   ]
  },
  {
   "cell_type": "code",
   "execution_count": 89,
   "metadata": {},
   "outputs": [
    {
     "data": {
      "text/plain": [
       "VotingClassifier(estimators=[('rf',\n",
       "                              RandomForestClassifier(bootstrap=True,\n",
       "                                                     class_weight=None,\n",
       "                                                     criterion='gini',\n",
       "                                                     max_depth=None,\n",
       "                                                     max_features=6,\n",
       "                                                     max_leaf_nodes=None,\n",
       "                                                     min_impurity_decrease=0.0,\n",
       "                                                     min_impurity_split=None,\n",
       "                                                     min_samples_leaf=3,\n",
       "                                                     min_samples_split=6,\n",
       "                                                     min_weight_fraction_leaf=0.0,\n",
       "                                                     n_estimators=100,\n",
       "                                                     n_jobs=None,\n",
       "                                                     oob_score=False,\n",
       "                                                     random_state=None,\n",
       "                                                     verbose=0,\n",
       "                                                     w...\n",
       "                                                         warm_start=False)),\n",
       "                             ('dt',\n",
       "                              DecisionTreeClassifier(class_weight=None,\n",
       "                                                     criterion='gini',\n",
       "                                                     max_depth=None,\n",
       "                                                     max_features=6,\n",
       "                                                     max_leaf_nodes=None,\n",
       "                                                     min_impurity_decrease=0.0,\n",
       "                                                     min_impurity_split=None,\n",
       "                                                     min_samples_leaf=6,\n",
       "                                                     min_samples_split=6,\n",
       "                                                     min_weight_fraction_leaf=0.0,\n",
       "                                                     presort=False,\n",
       "                                                     random_state=None,\n",
       "                                                     splitter='best'))],\n",
       "                 flatten_transform=True, n_jobs=None, voting='soft',\n",
       "                 weights=None)"
      ]
     },
     "execution_count": 89,
     "metadata": {},
     "output_type": "execute_result"
    }
   ],
   "source": [
    "vc.fit(X_train, y_train)"
   ]
  },
  {
   "cell_type": "code",
   "execution_count": 90,
   "metadata": {},
   "outputs": [],
   "source": [
    "y_pred = vc.predict(X_test)"
   ]
  },
  {
   "cell_type": "code",
   "execution_count": 91,
   "metadata": {},
   "outputs": [],
   "source": [
    "from sklearn.metrics import confusion_matrix, classification_report "
   ]
  },
  {
   "cell_type": "code",
   "execution_count": 92,
   "metadata": {},
   "outputs": [
    {
     "name": "stdout",
     "output_type": "stream",
     "text": [
      "[[779   7]\n",
      " [ 43  95]]\n"
     ]
    }
   ],
   "source": [
    "print(confusion_matrix(y_test, y_pred))"
   ]
  },
  {
   "cell_type": "code",
   "execution_count": 93,
   "metadata": {},
   "outputs": [
    {
     "name": "stdout",
     "output_type": "stream",
     "text": [
      "              precision    recall  f1-score   support\n",
      "\n",
      "           0       0.95      0.99      0.97       786\n",
      "           1       0.93      0.69      0.79       138\n",
      "\n",
      "    accuracy                           0.95       924\n",
      "   macro avg       0.94      0.84      0.88       924\n",
      "weighted avg       0.95      0.95      0.94       924\n",
      "\n"
     ]
    }
   ],
   "source": [
    "print(classification_report(y_test, y_pred))"
   ]
  },
  {
   "cell_type": "code",
   "execution_count": 94,
   "metadata": {},
   "outputs": [
    {
     "name": "stdout",
     "output_type": "stream",
     "text": [
      "0.9534225439821681\n",
      "0.003615693835608913\n"
     ]
    }
   ],
   "source": [
    "acc = cross_val_score(vc, X_scaled, y, cv=3)\n",
    "print(acc.mean())\n",
    "print(acc.std())"
   ]
  },
  {
   "cell_type": "markdown",
   "metadata": {},
   "source": [
    "## Conclusion\n",
    "\n",
    "- We are able to predict the chrun flag using the gradient boosting algorithm with 95% accuracy\n",
    "- By predicting churn flag we can provide more attention in customer."
   ]
  },
  {
   "cell_type": "code",
   "execution_count": null,
   "metadata": {},
   "outputs": [],
   "source": []
  }
 ],
 "metadata": {
  "kernelspec": {
   "display_name": "Python 3",
   "language": "python",
   "name": "python3"
  },
  "language_info": {
   "codemirror_mode": {
    "name": "ipython",
    "version": 3
   },
   "file_extension": ".py",
   "mimetype": "text/x-python",
   "name": "python",
   "nbconvert_exporter": "python",
   "pygments_lexer": "ipython3",
   "version": "3.7.3"
  }
 },
 "nbformat": 4,
 "nbformat_minor": 2
}
